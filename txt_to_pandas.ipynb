{
 "cells": [
  {
   "cell_type": "code",
   "execution_count": 1,
   "id": "smart-yesterday",
   "metadata": {
    "ExecuteTime": {
     "end_time": "2021-12-07T10:20:44.487592Z",
     "start_time": "2021-12-07T10:20:44.119063Z"
    }
   },
   "outputs": [],
   "source": [
    "import pandas as pd\n",
    "import itertools\n",
    "import numpy as np\n",
    "import random"
   ]
  },
  {
   "cell_type": "code",
   "execution_count": 7,
   "id": "flying-filter",
   "metadata": {
    "ExecuteTime": {
     "end_time": "2021-12-07T10:28:00.512149Z",
     "start_time": "2021-12-07T10:28:00.509433Z"
    }
   },
   "outputs": [],
   "source": [
    "def string_to_list(string_org):\n",
    "    string=string_org.split(',')\n",
    "    string_list=[]\n",
    "    for i in range(len(string)):\n",
    "        if i==0:\n",
    "            data=float(string[i][1:])\n",
    "\n",
    "        elif i==len(string)-1:\n",
    "            data=float(string[i][:-1])\n",
    "        else:\n",
    "            data=float(string[i])\n",
    "        string_list.append(data)\n",
    "    return string_list"
   ]
  },
  {
   "cell_type": "code",
   "execution_count": 2,
   "id": "missing-agreement",
   "metadata": {
    "ExecuteTime": {
     "end_time": "2021-12-07T10:22:46.753217Z",
     "start_time": "2021-12-07T10:22:46.317957Z"
    }
   },
   "outputs": [],
   "source": [
    "whole_sudden_df=pd.read_csv('./simulated_data/sudden_df.csv')"
   ]
  },
  {
   "cell_type": "markdown",
   "id": "parental-toyota",
   "metadata": {},
   "source": [
    "# Sudden concpet drift"
   ]
  },
  {
   "cell_type": "code",
   "execution_count": 10,
   "id": "concrete-terrorism",
   "metadata": {
    "ExecuteTime": {
     "end_time": "2021-12-07T10:29:44.466086Z",
     "start_time": "2021-12-07T10:28:47.654530Z"
    }
   },
   "outputs": [],
   "source": [
    "df_index=[i for i in range(1,2001)]\n",
    "for row in range(len(whole_sudden_df)):\n",
    "    sudden_series_row=whole_sudden_df.loc[row]\n",
    "    sudden_series=sudden_series_row[1]\n",
    "    sudden_series_list=string_to_list(sudden_series)\n",
    "    sudden_series_df=pd.DataFrame({})\n",
    "    sudden_series_df=pd.DataFrame({ \n",
    "                        'drift_point':sudden_series_row.drift_point,\n",
    "                        'label':sudden_series_list})\n",
    "    for lags in range(1,11):\n",
    "        sudden_series_df['lag'+str(lags)]=sudden_series_df['label'].shift(lags).fillna(0)\n",
    "\n",
    "    path='./sudden_df/'\n",
    "    filename='sudden_df'+str(df_index[row])\n",
    "    \n",
    "    sudden_series_df.to_csv(path+filename,index=False)"
   ]
  },
  {
   "cell_type": "markdown",
   "id": "artificial-france",
   "metadata": {},
   "source": [
    "# Incremental concept drift"
   ]
  },
  {
   "cell_type": "code",
   "execution_count": 21,
   "id": "laden-curve",
   "metadata": {
    "ExecuteTime": {
     "end_time": "2021-12-07T10:36:35.211834Z",
     "start_time": "2021-12-07T10:36:34.782124Z"
    }
   },
   "outputs": [],
   "source": [
    "whole_incremental_df=pd.read_csv('./simulated_data/incremental_cd.csv')"
   ]
  },
  {
   "cell_type": "code",
   "execution_count": 27,
   "id": "artificial-auction",
   "metadata": {
    "ExecuteTime": {
     "end_time": "2021-12-07T10:40:43.187507Z",
     "start_time": "2021-12-07T10:39:40.443420Z"
    }
   },
   "outputs": [],
   "source": [
    "for row in range(len(whole_incremental_df)):\n",
    "    \n",
    "    incremental_series_row=whole_incremental_df.loc[row]\n",
    "    incremental_series=incremental_series_row[2]\n",
    "    incremental_series_list=string_to_list(incremental_series)\n",
    "    incremental_series_df=pd.DataFrame({})\n",
    "    incremental_series_df=pd.DataFrame({ \n",
    "                        'drift_point':incremental_series_row.start_point,\n",
    "                        'drift_ending':incremental_series_row.ending_point,\n",
    "                        'label':incremental_series_list})\n",
    "    for lags in range(1,11):\n",
    "        incremental_series_df['lag'+str(lags)]=incremental_series_df['label'].shift(lags).fillna(0)\n",
    "\n",
    "    path='./incremental_df/'\n",
    "    filename='incremental_df'+str(df_index[row])\n",
    "    \n",
    "    incremental_series_df.to_csv(path+filename,index=False)"
   ]
  },
  {
   "cell_type": "markdown",
   "id": "accredited-albuquerque",
   "metadata": {},
   "source": [
    "# Gradual concept drift"
   ]
  },
  {
   "cell_type": "code",
   "execution_count": 30,
   "id": "comprehensive-double",
   "metadata": {
    "ExecuteTime": {
     "end_time": "2021-12-07T10:40:58.488448Z",
     "start_time": "2021-12-07T10:40:58.008729Z"
    }
   },
   "outputs": [],
   "source": [
    "whole_gradual_df=pd.read_csv('./simulated_data/gradual_df.csv')"
   ]
  },
  {
   "cell_type": "code",
   "execution_count": 34,
   "id": "natural-prime",
   "metadata": {
    "ExecuteTime": {
     "end_time": "2021-12-07T10:44:39.517445Z",
     "start_time": "2021-12-07T10:43:40.758182Z"
    }
   },
   "outputs": [],
   "source": [
    "for row in range(len(whole_gradual_df)):\n",
    "    \n",
    "    gradual_series_row=whole_gradual_df.loc[row]\n",
    "    gradual_series=gradual_series_row[1]\n",
    "    gradual_series_list=string_to_list(gradual_series)\n",
    "    gradual_series_df=pd.DataFrame({})\n",
    "    gradual_series_df=pd.DataFrame({ \n",
    "                        'label':gradual_series_list})\n",
    "    for lags in range(1,11):\n",
    "        gradual_series_df['lag'+str(lags)]=gradual_series_df['label'].shift(lags).fillna(0)\n",
    "\n",
    "\n",
    "    path='./gradual_df/'\n",
    "    filename='gradual_df'+str(df_index[row])\n",
    "    \n",
    "    gradual_series_df.to_csv(path+filename,index=False)"
   ]
  }
 ],
 "metadata": {
  "kernelspec": {
   "display_name": "Python 3",
   "language": "python",
   "name": "python3"
  },
  "language_info": {
   "codemirror_mode": {
    "name": "ipython",
    "version": 3
   },
   "file_extension": ".py",
   "mimetype": "text/x-python",
   "name": "python",
   "nbconvert_exporter": "python",
   "pygments_lexer": "ipython3",
   "version": "3.8.2"
  },
  "toc": {
   "base_numbering": 1,
   "nav_menu": {},
   "number_sections": true,
   "sideBar": true,
   "skip_h1_title": false,
   "title_cell": "Table of Contents",
   "title_sidebar": "Contents",
   "toc_cell": false,
   "toc_position": {},
   "toc_section_display": true,
   "toc_window_display": false
  }
 },
 "nbformat": 4,
 "nbformat_minor": 5
}
