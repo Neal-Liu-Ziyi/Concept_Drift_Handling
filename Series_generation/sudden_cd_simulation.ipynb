{
 "cells": [
  {
   "cell_type": "code",
   "execution_count": null,
   "id": "front-professional",
   "metadata": {
    "ExecuteTime": {
     "end_time": "2021-12-06T07:46:13.467218Z",
     "start_time": "2021-12-06T07:46:13.045950Z"
    }
   },
   "outputs": [],
   "source": [
    "import pandas as pd\n",
    "import itertools\n",
    "import numpy as np\n",
    "import random\n",
    "from random import choices\n",
    "from IPython.core.display import display, HTML"
   ]
  },
  {
   "cell_type": "code",
   "execution_count": null,
   "id": "smooth-living",
   "metadata": {
    "ExecuteTime": {
     "end_time": "2021-12-06T07:46:21.341823Z",
     "start_time": "2021-12-06T07:46:21.337973Z"
    }
   },
   "outputs": [],
   "source": [
    "def ts_file_processor(file_name):\n",
    "    with open (file_name,'r') as ts_file:\n",
    "        ts=[]\n",
    "        for i in ts_file:\n",
    "            ts.append(i)\n",
    "    ts=ts[0].split(',')\n",
    "    ts=[float(ts[i]) for i in range(len(ts)) ]\n",
    "    return ts\n",
    "\n",
    "file='./series/'\n",
    "names = locals()\n",
    "ts_dict={}\n",
    "for i in range(1,2001):\n",
    "    ts_dict['ts_'+str(i)]=ts_file_processor(file+str(i)+'.txt')\n",
    "\n",
    "ts_index=[i for i in range(1,2001)]\n",
    "\n",
    "sudden_df=pd.DataFrame({'drift_point':[],\n",
    "                       'series':[]},\n",
    "                      dtype=object)"
   ]
  },
  {
   "cell_type": "code",
   "execution_count": null,
   "id": "continent-exposure",
   "metadata": {
    "ExecuteTime": {
     "end_time": "2021-12-06T08:09:12.855949Z",
     "start_time": "2021-12-06T08:09:12.852687Z"
    }
   },
   "outputs": [],
   "source": [
    "def sudden_cd_simulation(no_simulation):\n",
    "    for row in range(no_simulation):\n",
    "        #create a new list to sotre series\n",
    "        sudden_cd_list=[]\n",
    "        # choice two sereis from original series \n",
    "        series_index=np.random.choice(ts_index,2)\n",
    "        ts1=ts_dict['ts_'+str(series_index[0])]\n",
    "        ts2=ts_dict['ts_'+str(series_index[1])]\n",
    "        # generate drift point\n",
    "        drift_point=random.randint(10,1970)\n",
    "        ts_1_points=ts1[:drift_point]\n",
    "        ts_2_points=ts2[drift_point:]\n",
    "        sudden_cd_list.append(ts_1_points)\n",
    "        sudden_cd_list.append(ts_2_points)\n",
    "        sudden_cd_list=list(itertools.chain.from_iterable(sudden_cd_list))\n",
    "        \n",
    "        sudden_df.loc[row]={'drift_point':drift_point,\n",
    "                          'series':sudden_cd_list}\n",
    "    return sudden_df"
   ]
  },
  {
   "cell_type": "code",
   "execution_count": null,
   "id": "latest-emergency",
   "metadata": {
    "ExecuteTime": {
     "end_time": "2021-12-06T08:09:17.137934Z",
     "start_time": "2021-12-06T08:09:13.035787Z"
    }
   },
   "outputs": [],
   "source": [
    "sudden_cd_simulation(2000)"
   ]
  },
  {
   "cell_type": "code",
   "execution_count": null,
   "id": "representative-coaching",
   "metadata": {
    "ExecuteTime": {
     "end_time": "2021-12-06T08:11:50.534680Z",
     "start_time": "2021-12-06T08:11:46.958368Z"
    }
   },
   "outputs": [],
   "source": [
    "sudden_df.to_csv('./simulated_data/sudden_concept_drift_df.csv', index=False,\n",
    "                 date_format={'drift_point': int,'series': list},sep=',')"
   ]
  }
 ],
 "metadata": {
  "kernelspec": {
   "display_name": "Python 3",
   "language": "python",
   "name": "python3"
  },
  "language_info": {
   "codemirror_mode": {
    "name": "ipython",
    "version": 3
   },
   "file_extension": ".py",
   "mimetype": "text/x-python",
   "name": "python",
   "nbconvert_exporter": "python",
   "pygments_lexer": "ipython3",
   "version": "3.8.2"
  },
  "toc": {
   "base_numbering": 1,
   "nav_menu": {},
   "number_sections": true,
   "sideBar": true,
   "skip_h1_title": false,
   "title_cell": "Table of Contents",
   "title_sidebar": "Contents",
   "toc_cell": false,
   "toc_position": {},
   "toc_section_display": true,
   "toc_window_display": false
  }
 },
 "nbformat": 4,
 "nbformat_minor": 5
}
