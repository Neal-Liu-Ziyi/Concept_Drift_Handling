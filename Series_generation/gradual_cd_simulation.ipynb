{
 "cells": [
  {
   "cell_type": "code",
   "execution_count": 1,
   "id": "reflected-panama",
   "metadata": {
    "ExecuteTime": {
     "end_time": "2021-12-06T10:16:36.571427Z",
     "start_time": "2021-12-06T10:16:36.243053Z"
    }
   },
   "outputs": [
    {
     "data": {
      "text/html": [
       "<style>.container { width:80% !important; }</style>"
      ],
      "text/plain": [
       "<IPython.core.display.HTML object>"
      ]
     },
     "metadata": {},
     "output_type": "display_data"
    }
   ],
   "source": [
    "import pandas as pd\n",
    "import itertools\n",
    "import numpy as np\n",
    "import random\n",
    "from random import choices\n",
    "from IPython.core.display import display, HTML\n",
    "display(HTML(\"<style>.container { width:80% !important; }</style>\"))"
   ]
  },
  {
   "cell_type": "code",
   "execution_count": 3,
   "id": "robust-extension",
   "metadata": {
    "ExecuteTime": {
     "end_time": "2021-12-06T10:17:29.959432Z",
     "start_time": "2021-12-06T10:17:28.476465Z"
    }
   },
   "outputs": [],
   "source": [
    "def ts_file_processor(file_name):\n",
    "    with open (file_name,'r') as ts_file:\n",
    "        ts=[]\n",
    "        for i in ts_file:\n",
    "            ts.append(i)\n",
    "    ts=ts[0].split(',')\n",
    "    ts=[float(ts[i]) for i in range(len(ts)) ]\n",
    "    return ts\n",
    "\n",
    "file='./original_series/original_series_'\n",
    "names = locals()\n",
    "ts_dict={}\n",
    "for i in range(1,2001):\n",
    "    ts_dict['ts_'+str(i)]=ts_file_processor(file+str(i)+'.txt')\n",
    "\n",
    "ts_index=[i for i in range(1,2001)]\n",
    "\n",
    "gradual_df=pd.DataFrame({'alpha':[],\n",
    "              'series':[]},dtype=object)"
   ]
  },
  {
   "cell_type": "code",
   "execution_count": 10,
   "id": "particular-tactics",
   "metadata": {
    "ExecuteTime": {
     "end_time": "2021-12-06T10:18:55.376421Z",
     "start_time": "2021-12-06T10:18:55.372690Z"
    }
   },
   "outputs": [],
   "source": [
    "def gradual_cd_simulation(no_simulation):\n",
    "    for x in range(no_simulation):\n",
    "        # choice two sereis from original series \n",
    "        series_index=np.random.choice(ts_index,2)\n",
    "        ts1=ts_dict['ts_'+str(series_index[0])]\n",
    "        ts2=ts_dict['ts_'+str(series_index[1])]\n",
    "        alpha_list=[]\n",
    "        for i in range(len(ts1)):\n",
    "            alpha=choices([1,0],\n",
    "                          weights=[1-i/len(ts1),i/len(ts1)],k=1)\n",
    "            alpha_list.append(alpha)\n",
    "        alpha_list=list(itertools.chain.from_iterable(alpha_list))\n",
    "        gradual_cd_list=[]\n",
    "        for n in range(len(alpha_list)):\n",
    "            if alpha_list[n]==1:\n",
    "                gradual_cd_list.append(ts1[n])\n",
    "            else:\n",
    "                gradual_cd_list.append(ts2[n])\n",
    "\n",
    "        gradual_df.loc[x]={'alpha':alpha_list,\n",
    "                  'series':gradual_cd_list}\n",
    "    return gradual_df"
   ]
  },
  {
   "cell_type": "code",
   "execution_count": 12,
   "id": "marine-collector",
   "metadata": {
    "ExecuteTime": {
     "end_time": "2021-12-06T10:19:26.793859Z",
     "start_time": "2021-12-06T10:19:17.886083Z"
    }
   },
   "outputs": [],
   "source": [
    "gradual_df=gradual_cd_simulation(2000)"
   ]
  },
  {
   "cell_type": "code",
   "execution_count": 14,
   "id": "partial-horizon",
   "metadata": {
    "ExecuteTime": {
     "end_time": "2021-12-06T10:20:04.326785Z",
     "start_time": "2021-12-06T10:20:04.302127Z"
    }
   },
   "outputs": [
    {
     "data": {
      "text/html": [
       "<div>\n",
       "<style scoped>\n",
       "    .dataframe tbody tr th:only-of-type {\n",
       "        vertical-align: middle;\n",
       "    }\n",
       "\n",
       "    .dataframe tbody tr th {\n",
       "        vertical-align: top;\n",
       "    }\n",
       "\n",
       "    .dataframe thead th {\n",
       "        text-align: right;\n",
       "    }\n",
       "</style>\n",
       "<table border=\"1\" class=\"dataframe\">\n",
       "  <thead>\n",
       "    <tr style=\"text-align: right;\">\n",
       "      <th></th>\n",
       "      <th>alpha</th>\n",
       "      <th>series</th>\n",
       "    </tr>\n",
       "  </thead>\n",
       "  <tbody>\n",
       "    <tr>\n",
       "      <th>0</th>\n",
       "      <td>[1, 1, 1, 1, 1, 1, 1, 1, 1, 1, 1, 1, 1, 1, 1, ...</td>\n",
       "      <td>[4.00158397403082, 4.21553923108007, 6.0593624...</td>\n",
       "    </tr>\n",
       "    <tr>\n",
       "      <th>1</th>\n",
       "      <td>[1, 1, 1, 1, 1, 1, 1, 1, 1, 1, 1, 1, 1, 1, 1, ...</td>\n",
       "      <td>[3.33023477916845, 3.62593566510398, 3.6738038...</td>\n",
       "    </tr>\n",
       "    <tr>\n",
       "      <th>2</th>\n",
       "      <td>[1, 1, 1, 1, 1, 1, 1, 1, 1, 1, 1, 1, 1, 1, 1, ...</td>\n",
       "      <td>[4.89940205022329, 4.47142878093573, 2.6563130...</td>\n",
       "    </tr>\n",
       "    <tr>\n",
       "      <th>3</th>\n",
       "      <td>[1, 1, 1, 1, 1, 1, 1, 1, 1, 1, 1, 1, 1, 1, 1, ...</td>\n",
       "      <td>[5.62256935755653, 4.7623010944151, 4.75730205...</td>\n",
       "    </tr>\n",
       "    <tr>\n",
       "      <th>4</th>\n",
       "      <td>[1, 1, 1, 1, 1, 1, 1, 1, 1, 1, 1, 1, 1, 1, 1, ...</td>\n",
       "      <td>[5.28003701708702, 4.70121194421841, 4.3201735...</td>\n",
       "    </tr>\n",
       "    <tr>\n",
       "      <th>...</th>\n",
       "      <td>...</td>\n",
       "      <td>...</td>\n",
       "    </tr>\n",
       "    <tr>\n",
       "      <th>1995</th>\n",
       "      <td>[1, 1, 1, 0, 1, 1, 1, 1, 1, 1, 1, 1, 1, 1, 1, ...</td>\n",
       "      <td>[4.24367950669274, 5.42591285161766, 4.3431875...</td>\n",
       "    </tr>\n",
       "    <tr>\n",
       "      <th>1996</th>\n",
       "      <td>[1, 1, 1, 1, 1, 1, 1, 1, 1, 1, 1, 1, 1, 1, 1, ...</td>\n",
       "      <td>[4.9610990931944, 4.15650635525969, 5.72799883...</td>\n",
       "    </tr>\n",
       "    <tr>\n",
       "      <th>1997</th>\n",
       "      <td>[1, 1, 1, 1, 1, 1, 1, 1, 1, 1, 1, 1, 1, 1, 1, ...</td>\n",
       "      <td>[4.85480777732978, 4.43394844742424, 4.4168408...</td>\n",
       "    </tr>\n",
       "    <tr>\n",
       "      <th>1998</th>\n",
       "      <td>[1, 1, 1, 1, 1, 1, 1, 1, 1, 1, 1, 1, 1, 1, 1, ...</td>\n",
       "      <td>[5.79206508147705, 3.72418229021039, 4.9135109...</td>\n",
       "    </tr>\n",
       "    <tr>\n",
       "      <th>1999</th>\n",
       "      <td>[1, 1, 1, 1, 1, 1, 1, 1, 1, 1, 1, 1, 1, 1, 1, ...</td>\n",
       "      <td>[3.43770947408305, 4.54876734888733, 4.9005272...</td>\n",
       "    </tr>\n",
       "  </tbody>\n",
       "</table>\n",
       "<p>2000 rows × 2 columns</p>\n",
       "</div>"
      ],
      "text/plain": [
       "                                                  alpha  \\\n",
       "0     [1, 1, 1, 1, 1, 1, 1, 1, 1, 1, 1, 1, 1, 1, 1, ...   \n",
       "1     [1, 1, 1, 1, 1, 1, 1, 1, 1, 1, 1, 1, 1, 1, 1, ...   \n",
       "2     [1, 1, 1, 1, 1, 1, 1, 1, 1, 1, 1, 1, 1, 1, 1, ...   \n",
       "3     [1, 1, 1, 1, 1, 1, 1, 1, 1, 1, 1, 1, 1, 1, 1, ...   \n",
       "4     [1, 1, 1, 1, 1, 1, 1, 1, 1, 1, 1, 1, 1, 1, 1, ...   \n",
       "...                                                 ...   \n",
       "1995  [1, 1, 1, 0, 1, 1, 1, 1, 1, 1, 1, 1, 1, 1, 1, ...   \n",
       "1996  [1, 1, 1, 1, 1, 1, 1, 1, 1, 1, 1, 1, 1, 1, 1, ...   \n",
       "1997  [1, 1, 1, 1, 1, 1, 1, 1, 1, 1, 1, 1, 1, 1, 1, ...   \n",
       "1998  [1, 1, 1, 1, 1, 1, 1, 1, 1, 1, 1, 1, 1, 1, 1, ...   \n",
       "1999  [1, 1, 1, 1, 1, 1, 1, 1, 1, 1, 1, 1, 1, 1, 1, ...   \n",
       "\n",
       "                                                 series  \n",
       "0     [4.00158397403082, 4.21553923108007, 6.0593624...  \n",
       "1     [3.33023477916845, 3.62593566510398, 3.6738038...  \n",
       "2     [4.89940205022329, 4.47142878093573, 2.6563130...  \n",
       "3     [5.62256935755653, 4.7623010944151, 4.75730205...  \n",
       "4     [5.28003701708702, 4.70121194421841, 4.3201735...  \n",
       "...                                                 ...  \n",
       "1995  [4.24367950669274, 5.42591285161766, 4.3431875...  \n",
       "1996  [4.9610990931944, 4.15650635525969, 5.72799883...  \n",
       "1997  [4.85480777732978, 4.43394844742424, 4.4168408...  \n",
       "1998  [5.79206508147705, 3.72418229021039, 4.9135109...  \n",
       "1999  [3.43770947408305, 4.54876734888733, 4.9005272...  \n",
       "\n",
       "[2000 rows x 2 columns]"
      ]
     },
     "execution_count": 14,
     "metadata": {},
     "output_type": "execute_result"
    }
   ],
   "source": [
    "gradual_df"
   ]
  },
  {
   "cell_type": "code",
   "execution_count": 19,
   "id": "billion-cooling",
   "metadata": {
    "ExecuteTime": {
     "end_time": "2021-12-06T10:20:48.749903Z",
     "start_time": "2021-12-06T10:20:44.963100Z"
    }
   },
   "outputs": [],
   "source": [
    "gradual_df.to_csv('./simulated_data/gradual_df.csv',index=False,\n",
    "                 date_format={\n",
    "                     'drift_point': int,\n",
    "                     'series': list\n",
    "                 },\n",
    "                 sep=',')"
   ]
  }
 ],
 "metadata": {
  "kernelspec": {
   "display_name": "Python 3",
   "language": "python",
   "name": "python3"
  },
  "language_info": {
   "codemirror_mode": {
    "name": "ipython",
    "version": 3
   },
   "file_extension": ".py",
   "mimetype": "text/x-python",
   "name": "python",
   "nbconvert_exporter": "python",
   "pygments_lexer": "ipython3",
   "version": "3.8.2"
  },
  "toc": {
   "base_numbering": 1,
   "nav_menu": {},
   "number_sections": true,
   "sideBar": true,
   "skip_h1_title": false,
   "title_cell": "Table of Contents",
   "title_sidebar": "Contents",
   "toc_cell": false,
   "toc_position": {},
   "toc_section_display": true,
   "toc_window_display": false
  }
 },
 "nbformat": 4,
 "nbformat_minor": 5
}
