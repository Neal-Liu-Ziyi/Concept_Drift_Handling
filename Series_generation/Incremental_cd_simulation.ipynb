{
 "cells": [
  {
   "cell_type": "code",
   "execution_count": 38,
   "id": "connected-fabric",
   "metadata": {
    "ExecuteTime": {
     "end_time": "2021-12-07T10:34:55.429056Z",
     "start_time": "2021-12-07T10:34:55.427145Z"
    }
   },
   "outputs": [],
   "source": [
    "import pandas as pd\n",
    "import itertools\n",
    "import numpy as np\n",
    "import random\n",
    "from random import choices"
   ]
  },
  {
   "cell_type": "code",
   "execution_count": 39,
   "id": "intellectual-combination",
   "metadata": {
    "ExecuteTime": {
     "end_time": "2021-12-07T10:34:55.605900Z",
     "start_time": "2021-12-07T10:34:55.603313Z"
    }
   },
   "outputs": [],
   "source": [
    "def ts_file_processor(file_name):\n",
    "    with open (file_name,'r') as ts_file:\n",
    "        ts=[]\n",
    "        for i in ts_file:\n",
    "            ts.append(i)\n",
    "    ts=ts[0].split(',')\n",
    "    ts=[float(ts[i]) for i in range(len(ts)) ]\n",
    "    return ts"
   ]
  },
  {
   "cell_type": "code",
   "execution_count": 40,
   "id": "southwest-twenty",
   "metadata": {
    "ExecuteTime": {
     "end_time": "2021-12-07T10:34:57.308189Z",
     "start_time": "2021-12-07T10:34:55.769520Z"
    }
   },
   "outputs": [],
   "source": [
    "file='./original_series/original_series_'\n",
    "names = locals()\n",
    "ts_dict={}\n",
    "for i in range(1,2001):\n",
    "    ts_dict['ts_'+str(i)]=ts_file_processor(file+str(i)+'.txt')"
   ]
  },
  {
   "cell_type": "code",
   "execution_count": 41,
   "id": "closed-formula",
   "metadata": {
    "ExecuteTime": {
     "end_time": "2021-12-07T10:34:57.311778Z",
     "start_time": "2021-12-07T10:34:57.309562Z"
    }
   },
   "outputs": [],
   "source": [
    "ts_index=[i for i in range(1,2001)]"
   ]
  },
  {
   "cell_type": "code",
   "execution_count": 42,
   "id": "varied-handling",
   "metadata": {
    "ExecuteTime": {
     "end_time": "2021-12-07T10:34:57.316833Z",
     "start_time": "2021-12-07T10:34:57.314338Z"
    }
   },
   "outputs": [],
   "source": [
    "incremental_cd_df=pd.DataFrame({'start_point':[],\n",
    "                               'ending_point':[],\n",
    "                               'series':[]},\n",
    "                                dtype=object)"
   ]
  },
  {
   "cell_type": "code",
   "execution_count": 43,
   "id": "otherwise-enzyme",
   "metadata": {
    "ExecuteTime": {
     "end_time": "2021-12-07T10:34:57.331018Z",
     "start_time": "2021-12-07T10:34:57.318368Z"
    }
   },
   "outputs": [],
   "source": [
    "def incremental_cd_simulation(no_simulation):\n",
    "    for i in range(no_simulation):\n",
    "        # choice two sereis from original series \n",
    "        series_index=np.random.choice(ts_index,2)\n",
    "        ts1=ts_dict['ts_'+str(series_index[0])]\n",
    "        ts2=ts_dict['ts_'+str(series_index[1])]\n",
    "        \n",
    "        incremental_cd_list=[]\n",
    "        mixing_list=[]\n",
    "        \n",
    "        a=round(random.random()*len(ts1))\n",
    "        b=round(random.random()*len(ts1))\n",
    "        start_point,ending_point=sorted((a,b))\n",
    "        \n",
    "        incremental_cd_list.append(ts1[:start_point])\n",
    "        \n",
    "        ts_1_pick=ts1[start_point:ending_point]\n",
    "        ts_2_pick=ts2[start_point:ending_point]\n",
    "        \n",
    "        weight=list(x for x in range(ending_point-start_point))\n",
    "        weight=list(x/(ending_point-start_point) for x in weight)\n",
    "        belta=list(1-i for i in weight)\n",
    "        \n",
    "        for n in range(ending_point-start_point):\n",
    "            series=belta[n]*ts_1_pick[n]+weight[n]*ts_2_pick[n]\n",
    "            mixing_list.append(series)\n",
    "            \n",
    "        incremental_cd_list.append(mixing_list)\n",
    "            \n",
    "        incremental_cd_list.append(ts2[ending_point:])\n",
    "        \n",
    "        incremental_cd_list=list(itertools.chain.from_iterable(incremental_cd_list))\n",
    "\n",
    "        \n",
    "        incremental_cd_df.loc[i]={\n",
    "            'start_point':start_point,\n",
    "            'ending_point':ending_point,\n",
    "            'series':incremental_cd_list}\n",
    "    return incremental_cd_df"
   ]
  },
  {
   "cell_type": "code",
   "execution_count": 44,
   "id": "desperate-access",
   "metadata": {
    "ExecuteTime": {
     "end_time": "2021-12-07T10:35:04.655137Z",
     "start_time": "2021-12-07T10:34:59.630258Z"
    }
   },
   "outputs": [
    {
     "data": {
      "text/html": [
       "<div>\n",
       "<style scoped>\n",
       "    .dataframe tbody tr th:only-of-type {\n",
       "        vertical-align: middle;\n",
       "    }\n",
       "\n",
       "    .dataframe tbody tr th {\n",
       "        vertical-align: top;\n",
       "    }\n",
       "\n",
       "    .dataframe thead th {\n",
       "        text-align: right;\n",
       "    }\n",
       "</style>\n",
       "<table border=\"1\" class=\"dataframe\">\n",
       "  <thead>\n",
       "    <tr style=\"text-align: right;\">\n",
       "      <th></th>\n",
       "      <th>start_point</th>\n",
       "      <th>ending_point</th>\n",
       "      <th>series</th>\n",
       "    </tr>\n",
       "  </thead>\n",
       "  <tbody>\n",
       "    <tr>\n",
       "      <th>0</th>\n",
       "      <td>1374</td>\n",
       "      <td>1531</td>\n",
       "      <td>[3.62925351791304, 4.63594884063492, 3.2060850...</td>\n",
       "    </tr>\n",
       "    <tr>\n",
       "      <th>1</th>\n",
       "      <td>1255</td>\n",
       "      <td>1838</td>\n",
       "      <td>[4.38461249700816, 3.85387017513735, 3.8027997...</td>\n",
       "    </tr>\n",
       "    <tr>\n",
       "      <th>2</th>\n",
       "      <td>1237</td>\n",
       "      <td>1901</td>\n",
       "      <td>[4.23663643430782, 5.96075471478044, 4.7328381...</td>\n",
       "    </tr>\n",
       "    <tr>\n",
       "      <th>3</th>\n",
       "      <td>1470</td>\n",
       "      <td>1534</td>\n",
       "      <td>[4.60649951214697, 5.49004759491859, 4.4625278...</td>\n",
       "    </tr>\n",
       "    <tr>\n",
       "      <th>4</th>\n",
       "      <td>193</td>\n",
       "      <td>877</td>\n",
       "      <td>[4.37130669424373, 4.73872876298479, 5.0045263...</td>\n",
       "    </tr>\n",
       "    <tr>\n",
       "      <th>...</th>\n",
       "      <td>...</td>\n",
       "      <td>...</td>\n",
       "      <td>...</td>\n",
       "    </tr>\n",
       "    <tr>\n",
       "      <th>1995</th>\n",
       "      <td>1484</td>\n",
       "      <td>1832</td>\n",
       "      <td>[6.13679215719252, 2.89791814128522, 4.7072631...</td>\n",
       "    </tr>\n",
       "    <tr>\n",
       "      <th>1996</th>\n",
       "      <td>1138</td>\n",
       "      <td>1364</td>\n",
       "      <td>[1.12210585140928, 2.37182331676179, 2.2108695...</td>\n",
       "    </tr>\n",
       "    <tr>\n",
       "      <th>1997</th>\n",
       "      <td>495</td>\n",
       "      <td>1572</td>\n",
       "      <td>[3.56547779061701, 4.00779148447802, 4.2530695...</td>\n",
       "    </tr>\n",
       "    <tr>\n",
       "      <th>1998</th>\n",
       "      <td>918</td>\n",
       "      <td>1835</td>\n",
       "      <td>[3.30240587628332, 4.66984009402938, 4.7145785...</td>\n",
       "    </tr>\n",
       "    <tr>\n",
       "      <th>1999</th>\n",
       "      <td>364</td>\n",
       "      <td>1847</td>\n",
       "      <td>[3.89797912382404, 4.65608489359876, 4.3626644...</td>\n",
       "    </tr>\n",
       "  </tbody>\n",
       "</table>\n",
       "<p>2000 rows × 3 columns</p>\n",
       "</div>"
      ],
      "text/plain": [
       "     start_point ending_point  \\\n",
       "0           1374         1531   \n",
       "1           1255         1838   \n",
       "2           1237         1901   \n",
       "3           1470         1534   \n",
       "4            193          877   \n",
       "...          ...          ...   \n",
       "1995        1484         1832   \n",
       "1996        1138         1364   \n",
       "1997         495         1572   \n",
       "1998         918         1835   \n",
       "1999         364         1847   \n",
       "\n",
       "                                                 series  \n",
       "0     [3.62925351791304, 4.63594884063492, 3.2060850...  \n",
       "1     [4.38461249700816, 3.85387017513735, 3.8027997...  \n",
       "2     [4.23663643430782, 5.96075471478044, 4.7328381...  \n",
       "3     [4.60649951214697, 5.49004759491859, 4.4625278...  \n",
       "4     [4.37130669424373, 4.73872876298479, 5.0045263...  \n",
       "...                                                 ...  \n",
       "1995  [6.13679215719252, 2.89791814128522, 4.7072631...  \n",
       "1996  [1.12210585140928, 2.37182331676179, 2.2108695...  \n",
       "1997  [3.56547779061701, 4.00779148447802, 4.2530695...  \n",
       "1998  [3.30240587628332, 4.66984009402938, 4.7145785...  \n",
       "1999  [3.89797912382404, 4.65608489359876, 4.3626644...  \n",
       "\n",
       "[2000 rows x 3 columns]"
      ]
     },
     "execution_count": 44,
     "metadata": {},
     "output_type": "execute_result"
    }
   ],
   "source": [
    "incremental_cd_df=incremental_cd_simulation(2000)"
   ]
  },
  {
   "cell_type": "code",
   "execution_count": 45,
   "id": "excellent-collapse",
   "metadata": {
    "ExecuteTime": {
     "end_time": "2021-12-07T10:35:10.981750Z",
     "start_time": "2021-12-07T10:35:07.535282Z"
    }
   },
   "outputs": [],
   "source": [
    "incremental_cd_df.to_csv('./simulated_data/incremental_cd.csv',index=False)"
   ]
  }
 ],
 "metadata": {
  "kernelspec": {
   "display_name": "Python 3",
   "language": "python",
   "name": "python3"
  },
  "language_info": {
   "codemirror_mode": {
    "name": "ipython",
    "version": 3
   },
   "file_extension": ".py",
   "mimetype": "text/x-python",
   "name": "python",
   "nbconvert_exporter": "python",
   "pygments_lexer": "ipython3",
   "version": "3.8.2"
  },
  "toc": {
   "base_numbering": 1,
   "nav_menu": {},
   "number_sections": true,
   "sideBar": true,
   "skip_h1_title": false,
   "title_cell": "Table of Contents",
   "title_sidebar": "Contents",
   "toc_cell": false,
   "toc_position": {},
   "toc_section_display": true,
   "toc_window_display": false
  }
 },
 "nbformat": 4,
 "nbformat_minor": 5
}
