{
 "cells": [
  {
   "cell_type": "code",
   "execution_count": 11,
   "metadata": {},
   "outputs": [],
   "source": [
    "from statsforecast.models import AutoARIMA,AutoETS,ARIMA\n",
    "import pandas as pd\n",
    "import numpy as np\n",
    "from statsforecast import StatsForecast\n",
    "from sklearn.metrics import mean_squared_error,mean_absolute_error"
   ]
  },
  {
   "cell_type": "code",
   "execution_count": 12,
   "metadata": {},
   "outputs": [],
   "source": [
    "sudden_df=pd.read_csv('../../data/simulated_data/sudden_cd_3000.csv')\n",
    "sudden_df=sudden_df.drop_duplicates(subset=['drift_point'])\n",
    "sudden_df=sudden_df.sort_values('drift_point',ascending=True)\n",
    "sudden_df.reset_index(drop=True, inplace=True)"
   ]
  },
  {
   "cell_type": "code",
   "execution_count": 13,
   "metadata": {},
   "outputs": [],
   "source": [
    "def series_reader(df,row):\n",
    "    series=df.iloc[row,1]\n",
    "    # remove the brackets and split the string into individual elements\n",
    "    string_arr = series.replace('[','').replace(']','').split(',')\n",
    "\n",
    "    # convert each string element to float and create a numpy array\n",
    "    arr = np.array([float(x) for x in string_arr])\n",
    "    return arr"
   ]
  },
  {
   "cell_type": "code",
   "execution_count": 14,
   "metadata": {},
   "outputs": [],
   "source": [
    "from base_line_model import series_reader,base_line_model"
   ]
  },
  {
   "cell_type": "code",
   "execution_count": 16,
   "metadata": {},
   "outputs": [],
   "source": [
    "auto_arima=AutoARIMA(seasonal=False)\n",
    "auto_ets=AutoETS()\n",
    "ar_3=ARIMA(order=[3,0,0])\n",
    "ar_5=ARIMA(order=[5,0,0])"
   ]
  },
  {
   "cell_type": "code",
   "execution_count": 25,
   "metadata": {},
   "outputs": [],
   "source": [
    "series=series_reader(sudden_df,1)"
   ]
  },
  {
   "cell_type": "code",
   "execution_count": 26,
   "metadata": {},
   "outputs": [
    {
     "data": {
      "text/plain": [
       "array([4.02442553, 5.50193011, 4.26071501, ..., 1.94372563, 1.74914998,\n",
       "       1.78985039])"
      ]
     },
     "execution_count": 26,
     "metadata": {},
     "output_type": "execute_result"
    }
   ],
   "source": [
    "series"
   ]
  },
  {
   "cell_type": "code",
   "execution_count": 31,
   "metadata": {},
   "outputs": [
    {
     "data": {
      "text/html": [
       "<div>\n",
       "<style scoped>\n",
       "    .dataframe tbody tr th:only-of-type {\n",
       "        vertical-align: middle;\n",
       "    }\n",
       "\n",
       "    .dataframe tbody tr th {\n",
       "        vertical-align: top;\n",
       "    }\n",
       "\n",
       "    .dataframe thead th {\n",
       "        text-align: right;\n",
       "    }\n",
       "</style>\n",
       "<table border=\"1\" class=\"dataframe\">\n",
       "  <thead>\n",
       "    <tr style=\"text-align: right;\">\n",
       "      <th></th>\n",
       "      <th>drift_point</th>\n",
       "      <th>series</th>\n",
       "      <th>testing_RMSE</th>\n",
       "      <th>testing_MAE</th>\n",
       "      <th>training_RMSE</th>\n",
       "      <th>training_MAE</th>\n",
       "    </tr>\n",
       "  </thead>\n",
       "  <tbody>\n",
       "    <tr>\n",
       "      <th>0</th>\n",
       "      <td>10</td>\n",
       "      <td>[4.0244255334079, 5.50193011119722, 4.26071501...</td>\n",
       "      <td>0.958254</td>\n",
       "      <td>0.790202</td>\n",
       "      <td>1.249325</td>\n",
       "      <td>0.967180</td>\n",
       "    </tr>\n",
       "    <tr>\n",
       "      <th>1</th>\n",
       "      <td>11</td>\n",
       "      <td>[4.0244255334079, 5.50193011119722, 4.26071501...</td>\n",
       "      <td>0.986709</td>\n",
       "      <td>0.820362</td>\n",
       "      <td>1.259097</td>\n",
       "      <td>0.974928</td>\n",
       "    </tr>\n",
       "    <tr>\n",
       "      <th>2</th>\n",
       "      <td>12</td>\n",
       "      <td>[4.0244255334079, 5.50193011119722, 4.26071501...</td>\n",
       "      <td>1.005686</td>\n",
       "      <td>0.834832</td>\n",
       "      <td>1.296547</td>\n",
       "      <td>1.002597</td>\n",
       "    </tr>\n",
       "    <tr>\n",
       "      <th>3</th>\n",
       "      <td>13</td>\n",
       "      <td>[4.0244255334079, 5.50193011119722, 4.26071501...</td>\n",
       "      <td>0.959272</td>\n",
       "      <td>0.796173</td>\n",
       "      <td>1.265224</td>\n",
       "      <td>0.976710</td>\n",
       "    </tr>\n",
       "    <tr>\n",
       "      <th>4</th>\n",
       "      <td>15</td>\n",
       "      <td>[4.0244255334079, 5.50193011119722, 4.26071501...</td>\n",
       "      <td>0.959618</td>\n",
       "      <td>0.792072</td>\n",
       "      <td>1.276617</td>\n",
       "      <td>0.987123</td>\n",
       "    </tr>\n",
       "    <tr>\n",
       "      <th>...</th>\n",
       "      <td>...</td>\n",
       "      <td>...</td>\n",
       "      <td>...</td>\n",
       "      <td>...</td>\n",
       "      <td>...</td>\n",
       "      <td>...</td>\n",
       "    </tr>\n",
       "    <tr>\n",
       "      <th>1519</th>\n",
       "      <td>1966</td>\n",
       "      <td>[4.0244255334079, 5.50193011119722, 4.26071501...</td>\n",
       "      <td>1.117363</td>\n",
       "      <td>0.889379</td>\n",
       "      <td>1.050636</td>\n",
       "      <td>0.856249</td>\n",
       "    </tr>\n",
       "    <tr>\n",
       "      <th>1520</th>\n",
       "      <td>1967</td>\n",
       "      <td>[4.0244255334079, 5.50193011119722, 4.26071501...</td>\n",
       "      <td>1.105574</td>\n",
       "      <td>0.878361</td>\n",
       "      <td>1.057011</td>\n",
       "      <td>0.859875</td>\n",
       "    </tr>\n",
       "    <tr>\n",
       "      <th>1521</th>\n",
       "      <td>1968</td>\n",
       "      <td>[4.0244255334079, 5.50193011119722, 4.26071501...</td>\n",
       "      <td>1.114567</td>\n",
       "      <td>0.885444</td>\n",
       "      <td>1.053048</td>\n",
       "      <td>0.857236</td>\n",
       "    </tr>\n",
       "    <tr>\n",
       "      <th>1522</th>\n",
       "      <td>1969</td>\n",
       "      <td>[4.0244255334079, 5.50193011119722, 4.26071501...</td>\n",
       "      <td>1.146005</td>\n",
       "      <td>0.915676</td>\n",
       "      <td>1.057280</td>\n",
       "      <td>0.856211</td>\n",
       "    </tr>\n",
       "    <tr>\n",
       "      <th>1523</th>\n",
       "      <td>1970</td>\n",
       "      <td>[4.0244255334079, 5.50193011119722, 4.26071501...</td>\n",
       "      <td>1.120996</td>\n",
       "      <td>0.893036</td>\n",
       "      <td>1.046007</td>\n",
       "      <td>0.851678</td>\n",
       "    </tr>\n",
       "  </tbody>\n",
       "</table>\n",
       "<p>1524 rows × 6 columns</p>\n",
       "</div>"
      ],
      "text/plain": [
       "      drift_point                                             series  \\\n",
       "0              10  [4.0244255334079, 5.50193011119722, 4.26071501...   \n",
       "1              11  [4.0244255334079, 5.50193011119722, 4.26071501...   \n",
       "2              12  [4.0244255334079, 5.50193011119722, 4.26071501...   \n",
       "3              13  [4.0244255334079, 5.50193011119722, 4.26071501...   \n",
       "4              15  [4.0244255334079, 5.50193011119722, 4.26071501...   \n",
       "...           ...                                                ...   \n",
       "1519         1966  [4.0244255334079, 5.50193011119722, 4.26071501...   \n",
       "1520         1967  [4.0244255334079, 5.50193011119722, 4.26071501...   \n",
       "1521         1968  [4.0244255334079, 5.50193011119722, 4.26071501...   \n",
       "1522         1969  [4.0244255334079, 5.50193011119722, 4.26071501...   \n",
       "1523         1970  [4.0244255334079, 5.50193011119722, 4.26071501...   \n",
       "\n",
       "      testing_RMSE  testing_MAE  training_RMSE  training_MAE  \n",
       "0         0.958254     0.790202       1.249325      0.967180  \n",
       "1         0.986709     0.820362       1.259097      0.974928  \n",
       "2         1.005686     0.834832       1.296547      1.002597  \n",
       "3         0.959272     0.796173       1.265224      0.976710  \n",
       "4         0.959618     0.792072       1.276617      0.987123  \n",
       "...            ...          ...            ...           ...  \n",
       "1519      1.117363     0.889379       1.050636      0.856249  \n",
       "1520      1.105574     0.878361       1.057011      0.859875  \n",
       "1521      1.114567     0.885444       1.053048      0.857236  \n",
       "1522      1.146005     0.915676       1.057280      0.856211  \n",
       "1523      1.120996     0.893036       1.046007      0.851678  \n",
       "\n",
       "[1524 rows x 6 columns]"
      ]
     },
     "execution_count": 31,
     "metadata": {},
     "output_type": "execute_result"
    }
   ],
   "source": [
    "pd.read_csv('../../result/sudden/exp_lgbm_sudden_window_100_error.csv')"
   ]
  },
  {
   "cell_type": "code",
   "execution_count": 20,
   "metadata": {},
   "outputs": [],
   "source": [
    "def base_line_model(df,model,window_size):\n",
    "    error_df=pd.DataFrame({'drift_point':[],\n",
    "                           'testing_RMSE':[],\n",
    "                           'testing_MAE':[]})\n",
    "\n",
    "    pred_df=pd.DataFrame()\n",
    "    for row in range(len(df)):\n",
    "        drift_point=df.iloc[row,0]\n",
    "        all_series=series_reader(df,row)\n",
    "\n",
    "\n",
    "        pred_list=[]\n",
    "        if type(window_size) is int:\n",
    "            training_series=all_series[:round(0.8 * len(all_series))]\n",
    "            testing_series=all_series[round(0.8 * len(all_series)):]\n",
    "            training_series=training_series[int(window_size)*(-1):]\n",
    "            meaningful_series=np.append(training_series,testing_series)\n",
    "            for i in range(len(meaningful_series)):\n",
    "                if i<len(meaningful_series)-window_size:\n",
    "                    training_set=meaningful_series[i:i+window_size]\n",
    "                    pred=model.fit(training_set).predict(1)['mean'][0]\n",
    "                    pred_list.append(pred)\n",
    "            rmse=mean_squared_error(squared=False,y_true=testing_series,y_pred=pred_list)\n",
    "            mae=mean_absolute_error(testing_series,pred_list)\n",
    "\n",
    "        elif window_size=='after':\n",
    "            after_drift_series=all_series[drift_point:]\n",
    "            training_series = after_drift_series[:round(0.8 * len(after_drift_series))]\n",
    "            testing_series = after_drift_series[round(0.8 * len(after_drift_series)):]\n",
    "            for i in range(len(testing_series)):\n",
    "                training_set=np.append(training_series,testing_series[:i])\n",
    "                pred=model.fit(training_set).predict(1)['mean'][0]\n",
    "                pred_list.append(pred)\n",
    "\n",
    "        elif window_size=='all':\n",
    "            training_series=all_series[:round(0.8 * len(all_series))]\n",
    "            testing_series=all_series[round(0.8 * len(all_series)):]\n",
    "            for i in range(len(testing_series)):\n",
    "                training_set=np.append(training_series,testing_series[:i])\n",
    "                pred=model.fit(training_set).predict(1)['mean'][0]\n",
    "                pred_list.append(pred)\n",
    "\n",
    "\n",
    "        rmse=mean_squared_error(squared=False,y_true=testing_series,y_pred=pred_list)\n",
    "        mae=mean_absolute_error(testing_series,pred_list)\n",
    "\n",
    "        pred_df[f'drift_point{str(drift_point)}']=pred_list\n",
    "        error_df.loc[row,:]=[drift_point,rmse,mae]\n",
    "    return pred_df,error_df"
   ]
  },
  {
   "cell_type": "code",
   "execution_count": 22,
   "metadata": {},
   "outputs": [
    {
     "ename": "KeyboardInterrupt",
     "evalue": "",
     "output_type": "error",
     "traceback": [
      "\u001b[0;31m---------------------------------------------------------------------------\u001b[0m",
      "\u001b[0;31mKeyboardInterrupt\u001b[0m                         Traceback (most recent call last)",
      "\u001b[1;32m/Users/nealliu/Desktop/Concept_Drift_Handling/models/base_line_model/sudden_base_line_model.ipynb Cell 10\u001b[0m in \u001b[0;36m<cell line: 1>\u001b[0;34m()\u001b[0m\n\u001b[0;32m----> <a href='vscode-notebook-cell:/Users/nealliu/Desktop/Concept_Drift_Handling/models/base_line_model/sudden_base_line_model.ipynb#X11sZmlsZQ%3D%3D?line=0'>1</a>\u001b[0m base_line_model(sudden_df,auto_arima,\u001b[39m'\u001b[39;49m\u001b[39mall\u001b[39;49m\u001b[39m'\u001b[39;49m)\n",
      "\u001b[1;32m/Users/nealliu/Desktop/Concept_Drift_Handling/models/base_line_model/sudden_base_line_model.ipynb Cell 10\u001b[0m in \u001b[0;36mbase_line_model\u001b[0;34m(df, model, window_size)\u001b[0m\n\u001b[1;32m     <a href='vscode-notebook-cell:/Users/nealliu/Desktop/Concept_Drift_Handling/models/base_line_model/sudden_base_line_model.ipynb#X11sZmlsZQ%3D%3D?line=37'>38</a>\u001b[0m     \u001b[39mfor\u001b[39;00m i \u001b[39min\u001b[39;00m \u001b[39mrange\u001b[39m(\u001b[39mlen\u001b[39m(testing_series)):\n\u001b[1;32m     <a href='vscode-notebook-cell:/Users/nealliu/Desktop/Concept_Drift_Handling/models/base_line_model/sudden_base_line_model.ipynb#X11sZmlsZQ%3D%3D?line=38'>39</a>\u001b[0m         training_set\u001b[39m=\u001b[39mnp\u001b[39m.\u001b[39mappend(training_series,testing_series[:i])\n\u001b[0;32m---> <a href='vscode-notebook-cell:/Users/nealliu/Desktop/Concept_Drift_Handling/models/base_line_model/sudden_base_line_model.ipynb#X11sZmlsZQ%3D%3D?line=39'>40</a>\u001b[0m         pred\u001b[39m=\u001b[39mmodel\u001b[39m.\u001b[39;49mfit(training_set)\u001b[39m.\u001b[39mpredict(\u001b[39m1\u001b[39m)[\u001b[39m'\u001b[39m\u001b[39mmean\u001b[39m\u001b[39m'\u001b[39m][\u001b[39m0\u001b[39m]\n\u001b[1;32m     <a href='vscode-notebook-cell:/Users/nealliu/Desktop/Concept_Drift_Handling/models/base_line_model/sudden_base_line_model.ipynb#X11sZmlsZQ%3D%3D?line=40'>41</a>\u001b[0m         pred_list\u001b[39m.\u001b[39mappend(pred)\n\u001b[1;32m     <a href='vscode-notebook-cell:/Users/nealliu/Desktop/Concept_Drift_Handling/models/base_line_model/sudden_base_line_model.ipynb#X11sZmlsZQ%3D%3D?line=43'>44</a>\u001b[0m rmse\u001b[39m=\u001b[39mmean_squared_error(squared\u001b[39m=\u001b[39m\u001b[39mFalse\u001b[39;00m,y_true\u001b[39m=\u001b[39mtesting_series,y_pred\u001b[39m=\u001b[39mpred_list)\n",
      "File \u001b[0;32m/opt/anaconda3/lib/python3.9/site-packages/statsforecast/models.py:246\u001b[0m, in \u001b[0;36mAutoARIMA.fit\u001b[0;34m(self, y, X)\u001b[0m\n\u001b[1;32m    228\u001b[0m \u001b[39m\"\"\"Fit the AutoARIMA model.\u001b[39;00m\n\u001b[1;32m    229\u001b[0m \n\u001b[1;32m    230\u001b[0m \u001b[39mFit an AutoARIMA to a time series (numpy array) `y`\u001b[39;00m\n\u001b[0;32m   (...)\u001b[0m\n\u001b[1;32m    243\u001b[0m \u001b[39m    AutoARIMA fitted model.\u001b[39;00m\n\u001b[1;32m    244\u001b[0m \u001b[39m\"\"\"\u001b[39;00m\n\u001b[1;32m    245\u001b[0m \u001b[39mwith\u001b[39;00m np\u001b[39m.\u001b[39merrstate(invalid\u001b[39m=\u001b[39m\u001b[39m\"\u001b[39m\u001b[39mignore\u001b[39m\u001b[39m\"\u001b[39m):\n\u001b[0;32m--> 246\u001b[0m     \u001b[39mself\u001b[39m\u001b[39m.\u001b[39mmodel_ \u001b[39m=\u001b[39m auto_arima_f(\n\u001b[1;32m    247\u001b[0m         x\u001b[39m=\u001b[39;49my,\n\u001b[1;32m    248\u001b[0m         d\u001b[39m=\u001b[39;49m\u001b[39mself\u001b[39;49m\u001b[39m.\u001b[39;49md,\n\u001b[1;32m    249\u001b[0m         D\u001b[39m=\u001b[39;49m\u001b[39mself\u001b[39;49m\u001b[39m.\u001b[39;49mD,\n\u001b[1;32m    250\u001b[0m         max_p\u001b[39m=\u001b[39;49m\u001b[39mself\u001b[39;49m\u001b[39m.\u001b[39;49mmax_p,\n\u001b[1;32m    251\u001b[0m         max_q\u001b[39m=\u001b[39;49m\u001b[39mself\u001b[39;49m\u001b[39m.\u001b[39;49mmax_q,\n\u001b[1;32m    252\u001b[0m         max_P\u001b[39m=\u001b[39;49m\u001b[39mself\u001b[39;49m\u001b[39m.\u001b[39;49mmax_P,\n\u001b[1;32m    253\u001b[0m         max_Q\u001b[39m=\u001b[39;49m\u001b[39mself\u001b[39;49m\u001b[39m.\u001b[39;49mmax_Q,\n\u001b[1;32m    254\u001b[0m         max_order\u001b[39m=\u001b[39;49m\u001b[39mself\u001b[39;49m\u001b[39m.\u001b[39;49mmax_order,\n\u001b[1;32m    255\u001b[0m         max_d\u001b[39m=\u001b[39;49m\u001b[39mself\u001b[39;49m\u001b[39m.\u001b[39;49mmax_d,\n\u001b[1;32m    256\u001b[0m         max_D\u001b[39m=\u001b[39;49m\u001b[39mself\u001b[39;49m\u001b[39m.\u001b[39;49mmax_D,\n\u001b[1;32m    257\u001b[0m         start_p\u001b[39m=\u001b[39;49m\u001b[39mself\u001b[39;49m\u001b[39m.\u001b[39;49mstart_p,\n\u001b[1;32m    258\u001b[0m         start_q\u001b[39m=\u001b[39;49m\u001b[39mself\u001b[39;49m\u001b[39m.\u001b[39;49mstart_q,\n\u001b[1;32m    259\u001b[0m         start_P\u001b[39m=\u001b[39;49m\u001b[39mself\u001b[39;49m\u001b[39m.\u001b[39;49mstart_P,\n\u001b[1;32m    260\u001b[0m         start_Q\u001b[39m=\u001b[39;49m\u001b[39mself\u001b[39;49m\u001b[39m.\u001b[39;49mstart_Q,\n\u001b[1;32m    261\u001b[0m         stationary\u001b[39m=\u001b[39;49m\u001b[39mself\u001b[39;49m\u001b[39m.\u001b[39;49mstationary,\n\u001b[1;32m    262\u001b[0m         seasonal\u001b[39m=\u001b[39;49m\u001b[39mself\u001b[39;49m\u001b[39m.\u001b[39;49mseasonal,\n\u001b[1;32m    263\u001b[0m         ic\u001b[39m=\u001b[39;49m\u001b[39mself\u001b[39;49m\u001b[39m.\u001b[39;49mic,\n\u001b[1;32m    264\u001b[0m         stepwise\u001b[39m=\u001b[39;49m\u001b[39mself\u001b[39;49m\u001b[39m.\u001b[39;49mstepwise,\n\u001b[1;32m    265\u001b[0m         nmodels\u001b[39m=\u001b[39;49m\u001b[39mself\u001b[39;49m\u001b[39m.\u001b[39;49mnmodels,\n\u001b[1;32m    266\u001b[0m         trace\u001b[39m=\u001b[39;49m\u001b[39mself\u001b[39;49m\u001b[39m.\u001b[39;49mtrace,\n\u001b[1;32m    267\u001b[0m         approximation\u001b[39m=\u001b[39;49m\u001b[39mself\u001b[39;49m\u001b[39m.\u001b[39;49mapproximation,\n\u001b[1;32m    268\u001b[0m         method\u001b[39m=\u001b[39;49m\u001b[39mself\u001b[39;49m\u001b[39m.\u001b[39;49mmethod,\n\u001b[1;32m    269\u001b[0m         truncate\u001b[39m=\u001b[39;49m\u001b[39mself\u001b[39;49m\u001b[39m.\u001b[39;49mtruncate,\n\u001b[1;32m    270\u001b[0m         xreg\u001b[39m=\u001b[39;49mX,\n\u001b[1;32m    271\u001b[0m         test\u001b[39m=\u001b[39;49m\u001b[39mself\u001b[39;49m\u001b[39m.\u001b[39;49mtest,\n\u001b[1;32m    272\u001b[0m         test_kwargs\u001b[39m=\u001b[39;49m\u001b[39mself\u001b[39;49m\u001b[39m.\u001b[39;49mtest_kwargs,\n\u001b[1;32m    273\u001b[0m         seasonal_test\u001b[39m=\u001b[39;49m\u001b[39mself\u001b[39;49m\u001b[39m.\u001b[39;49mseasonal_test,\n\u001b[1;32m    274\u001b[0m         seasonal_test_kwargs\u001b[39m=\u001b[39;49m\u001b[39mself\u001b[39;49m\u001b[39m.\u001b[39;49mseasonal_test_kwargs,\n\u001b[1;32m    275\u001b[0m         allowdrift\u001b[39m=\u001b[39;49m\u001b[39mself\u001b[39;49m\u001b[39m.\u001b[39;49mallowdrift,\n\u001b[1;32m    276\u001b[0m         allowmean\u001b[39m=\u001b[39;49m\u001b[39mself\u001b[39;49m\u001b[39m.\u001b[39;49mallowmean,\n\u001b[1;32m    277\u001b[0m         blambda\u001b[39m=\u001b[39;49m\u001b[39mself\u001b[39;49m\u001b[39m.\u001b[39;49mblambda,\n\u001b[1;32m    278\u001b[0m         biasadj\u001b[39m=\u001b[39;49m\u001b[39mself\u001b[39;49m\u001b[39m.\u001b[39;49mbiasadj,\n\u001b[1;32m    279\u001b[0m         parallel\u001b[39m=\u001b[39;49m\u001b[39mself\u001b[39;49m\u001b[39m.\u001b[39;49mparallel,\n\u001b[1;32m    280\u001b[0m         num_cores\u001b[39m=\u001b[39;49m\u001b[39mself\u001b[39;49m\u001b[39m.\u001b[39;49mnum_cores,\n\u001b[1;32m    281\u001b[0m         period\u001b[39m=\u001b[39;49m\u001b[39mself\u001b[39;49m\u001b[39m.\u001b[39;49mseason_length,\n\u001b[1;32m    282\u001b[0m     )\n\u001b[1;32m    283\u001b[0m \u001b[39mreturn\u001b[39;00m \u001b[39mself\u001b[39m\n",
      "File \u001b[0;32m/opt/anaconda3/lib/python3.9/site-packages/statsforecast/arima.py:2216\u001b[0m, in \u001b[0;36mauto_arima_f\u001b[0;34m(x, d, D, max_p, max_q, max_P, max_Q, max_order, max_d, max_D, start_p, start_q, start_P, start_Q, stationary, seasonal, ic, stepwise, nmodels, trace, approximation, method, truncate, xreg, test, test_kwargs, seasonal_test, seasonal_test_kwargs, allowdrift, allowmean, blambda, biasadj, parallel, num_cores, period)\u001b[0m\n\u001b[1;32m   2214\u001b[0m         \u001b[39mcontinue\u001b[39;00m\n\u001b[1;32m   2215\u001b[0m \u001b[39mif\u001b[39;00m p \u001b[39m<\u001b[39m max_p \u001b[39mand\u001b[39;00m newmodel(p \u001b[39m+\u001b[39m \u001b[39m1\u001b[39m, d, q, P, D, Q, constant, results[:k]):\n\u001b[0;32m-> 2216\u001b[0m     k, bestfit, improved \u001b[39m=\u001b[39m try_params(\n\u001b[1;32m   2217\u001b[0m         p \u001b[39m+\u001b[39;49m \u001b[39m1\u001b[39;49m, d, q, P, D, Q, constant, k, bestfit\n\u001b[1;32m   2218\u001b[0m     )\n\u001b[1;32m   2219\u001b[0m     \u001b[39mif\u001b[39;00m improved:\n\u001b[1;32m   2220\u001b[0m         p \u001b[39m+\u001b[39m\u001b[39m=\u001b[39m \u001b[39m1\u001b[39m\n",
      "File \u001b[0;32m/opt/anaconda3/lib/python3.9/site-packages/statsforecast/arima.py:2112\u001b[0m, in \u001b[0;36mauto_arima_f.<locals>.try_params\u001b[0;34m(p, d, q, P, D, Q, constant, k, bestfit)\u001b[0m\n\u001b[1;32m   2110\u001b[0m \u001b[39mif\u001b[39;00m k \u001b[39m>\u001b[39m\u001b[39m=\u001b[39m results\u001b[39m.\u001b[39mshape[\u001b[39m0\u001b[39m]:\n\u001b[1;32m   2111\u001b[0m     \u001b[39mreturn\u001b[39;00m k, bestfit, improved\n\u001b[0;32m-> 2112\u001b[0m fit \u001b[39m=\u001b[39m p_myarima(\n\u001b[1;32m   2113\u001b[0m     order\u001b[39m=\u001b[39;49m(p, d, q),\n\u001b[1;32m   2114\u001b[0m     seasonal\u001b[39m=\u001b[39;49m{\u001b[39m\"\u001b[39;49m\u001b[39morder\u001b[39;49m\u001b[39m\"\u001b[39;49m: (P, D, Q), \u001b[39m\"\u001b[39;49m\u001b[39mperiod\u001b[39;49m\u001b[39m\"\u001b[39;49m: m},\n\u001b[1;32m   2115\u001b[0m )\n\u001b[1;32m   2116\u001b[0m results[k] \u001b[39m=\u001b[39m (p, d, q, P, D, Q, constant, fit[\u001b[39m\"\u001b[39m\u001b[39mic\u001b[39m\u001b[39m\"\u001b[39m])\n\u001b[1;32m   2117\u001b[0m \u001b[39mif\u001b[39;00m fit[\u001b[39m\"\u001b[39m\u001b[39mic\u001b[39m\u001b[39m\"\u001b[39m] \u001b[39m<\u001b[39m bestfit[\u001b[39m\"\u001b[39m\u001b[39mic\u001b[39m\u001b[39m\"\u001b[39m]:\n",
      "File \u001b[0;32m/opt/anaconda3/lib/python3.9/site-packages/statsforecast/arima.py:1241\u001b[0m, in \u001b[0;36mmyarima\u001b[0;34m(x, order, seasonal, constant, ic, trace, approximation, offset, xreg, method, **kwargs)\u001b[0m\n\u001b[1;32m   1237\u001b[0m         fit \u001b[39m=\u001b[39m arima(\n\u001b[1;32m   1238\u001b[0m             x, order, seasonal, include_mean\u001b[39m=\u001b[39mconstant, method\u001b[39m=\u001b[39mmethod, xreg\u001b[39m=\u001b[39mxreg\n\u001b[1;32m   1239\u001b[0m         )\n\u001b[1;32m   1240\u001b[0m     \u001b[39melse\u001b[39;00m:\n\u001b[0;32m-> 1241\u001b[0m         fit \u001b[39m=\u001b[39m arima(x, order, include_mean\u001b[39m=\u001b[39;49mconstant, method\u001b[39m=\u001b[39;49mmethod, xreg\u001b[39m=\u001b[39;49mxreg)\n\u001b[1;32m   1242\u001b[0m \u001b[39m# nxreg = 0 if xreg is None else xreg.shape[1]\u001b[39;00m\n\u001b[1;32m   1243\u001b[0m nstar \u001b[39m=\u001b[39m n \u001b[39m-\u001b[39m order[\u001b[39m1\u001b[39m] \u001b[39m-\u001b[39m seas_order[\u001b[39m1\u001b[39m] \u001b[39m*\u001b[39m m\n",
      "File \u001b[0;32m/opt/anaconda3/lib/python3.9/site-packages/statsforecast/arima.py:969\u001b[0m, in \u001b[0;36marima\u001b[0;34m(x, order, seasonal, xreg, include_mean, transform_pars, fixed, init, method, SSinit, optim_method, kappa, tol, optim_control)\u001b[0m\n\u001b[1;32m    961\u001b[0m     res \u001b[39m=\u001b[39m OptimResult(\n\u001b[1;32m    962\u001b[0m         \u001b[39mTrue\u001b[39;00m,\n\u001b[1;32m    963\u001b[0m         \u001b[39m0\u001b[39m,\n\u001b[0;32m   (...)\u001b[0m\n\u001b[1;32m    966\u001b[0m         np\u001b[39m.\u001b[39marray([]),\n\u001b[1;32m    967\u001b[0m     )\n\u001b[1;32m    968\u001b[0m \u001b[39melse\u001b[39;00m:\n\u001b[0;32m--> 969\u001b[0m     res \u001b[39m=\u001b[39m minimize(\n\u001b[1;32m    970\u001b[0m         armafn,\n\u001b[1;32m    971\u001b[0m         init[mask],\n\u001b[1;32m    972\u001b[0m         args\u001b[39m=\u001b[39;49m(\n\u001b[1;32m    973\u001b[0m             x,\n\u001b[1;32m    974\u001b[0m             transform_pars,\n\u001b[1;32m    975\u001b[0m         ),\n\u001b[1;32m    976\u001b[0m         method\u001b[39m=\u001b[39;49moptim_method,\n\u001b[1;32m    977\u001b[0m         tol\u001b[39m=\u001b[39;49mtol,\n\u001b[1;32m    978\u001b[0m         options\u001b[39m=\u001b[39;49moptim_control,\n\u001b[1;32m    979\u001b[0m     )\n\u001b[1;32m    980\u001b[0m \u001b[39m# if not res.success:\u001b[39;00m\n\u001b[1;32m    981\u001b[0m \u001b[39m# warnings.warn(res.message)\u001b[39;00m\n\u001b[1;32m    982\u001b[0m coef[mask] \u001b[39m=\u001b[39m res\u001b[39m.\u001b[39mx\n",
      "File \u001b[0;32m/opt/anaconda3/lib/python3.9/site-packages/scipy/optimize/_minimize.py:618\u001b[0m, in \u001b[0;36mminimize\u001b[0;34m(fun, x0, args, method, jac, hess, hessp, bounds, constraints, tol, callback, options)\u001b[0m\n\u001b[1;32m    616\u001b[0m     \u001b[39mreturn\u001b[39;00m _minimize_cg(fun, x0, args, jac, callback, \u001b[39m*\u001b[39m\u001b[39m*\u001b[39moptions)\n\u001b[1;32m    617\u001b[0m \u001b[39melif\u001b[39;00m meth \u001b[39m==\u001b[39m \u001b[39m'\u001b[39m\u001b[39mbfgs\u001b[39m\u001b[39m'\u001b[39m:\n\u001b[0;32m--> 618\u001b[0m     \u001b[39mreturn\u001b[39;00m _minimize_bfgs(fun, x0, args, jac, callback, \u001b[39m*\u001b[39;49m\u001b[39m*\u001b[39;49moptions)\n\u001b[1;32m    619\u001b[0m \u001b[39melif\u001b[39;00m meth \u001b[39m==\u001b[39m \u001b[39m'\u001b[39m\u001b[39mnewton-cg\u001b[39m\u001b[39m'\u001b[39m:\n\u001b[1;32m    620\u001b[0m     \u001b[39mreturn\u001b[39;00m _minimize_newtoncg(fun, x0, args, jac, hess, hessp, callback,\n\u001b[1;32m    621\u001b[0m                               \u001b[39m*\u001b[39m\u001b[39m*\u001b[39moptions)\n",
      "File \u001b[0;32m/opt/anaconda3/lib/python3.9/site-packages/scipy/optimize/optimize.py:1235\u001b[0m, in \u001b[0;36m_minimize_bfgs\u001b[0;34m(fun, x0, args, jac, callback, gtol, norm, eps, maxiter, disp, return_all, finite_diff_rel_step, **unknown_options)\u001b[0m\n\u001b[1;32m   1232\u001b[0m pk \u001b[39m=\u001b[39m \u001b[39m-\u001b[39mnp\u001b[39m.\u001b[39mdot(Hk, gfk)\n\u001b[1;32m   1233\u001b[0m \u001b[39mtry\u001b[39;00m:\n\u001b[1;32m   1234\u001b[0m     alpha_k, fc, gc, old_fval, old_old_fval, gfkp1 \u001b[39m=\u001b[39m \\\n\u001b[0;32m-> 1235\u001b[0m              _line_search_wolfe12(f, myfprime, xk, pk, gfk,\n\u001b[1;32m   1236\u001b[0m                                   old_fval, old_old_fval, amin\u001b[39m=\u001b[39;49m\u001b[39m1e-100\u001b[39;49m, amax\u001b[39m=\u001b[39;49m\u001b[39m1e100\u001b[39;49m)\n\u001b[1;32m   1237\u001b[0m \u001b[39mexcept\u001b[39;00m _LineSearchError:\n\u001b[1;32m   1238\u001b[0m     \u001b[39m# Line search failed to find a better solution.\u001b[39;00m\n\u001b[1;32m   1239\u001b[0m     warnflag \u001b[39m=\u001b[39m \u001b[39m2\u001b[39m\n",
      "File \u001b[0;32m/opt/anaconda3/lib/python3.9/site-packages/scipy/optimize/optimize.py:1005\u001b[0m, in \u001b[0;36m_line_search_wolfe12\u001b[0;34m(f, fprime, xk, pk, gfk, old_fval, old_old_fval, **kwargs)\u001b[0m\n\u001b[1;32m    991\u001b[0m \u001b[39m\"\"\"\u001b[39;00m\n\u001b[1;32m    992\u001b[0m \u001b[39mSame as line_search_wolfe1, but fall back to line_search_wolfe2 if\u001b[39;00m\n\u001b[1;32m    993\u001b[0m \u001b[39msuitable step length is not found, and raise an exception if a\u001b[39;00m\n\u001b[0;32m   (...)\u001b[0m\n\u001b[1;32m   1000\u001b[0m \n\u001b[1;32m   1001\u001b[0m \u001b[39m\"\"\"\u001b[39;00m\n\u001b[1;32m   1003\u001b[0m extra_condition \u001b[39m=\u001b[39m kwargs\u001b[39m.\u001b[39mpop(\u001b[39m'\u001b[39m\u001b[39mextra_condition\u001b[39m\u001b[39m'\u001b[39m, \u001b[39mNone\u001b[39;00m)\n\u001b[0;32m-> 1005\u001b[0m ret \u001b[39m=\u001b[39m line_search_wolfe1(f, fprime, xk, pk, gfk,\n\u001b[1;32m   1006\u001b[0m                          old_fval, old_old_fval,\n\u001b[1;32m   1007\u001b[0m                          \u001b[39m*\u001b[39;49m\u001b[39m*\u001b[39;49mkwargs)\n\u001b[1;32m   1009\u001b[0m \u001b[39mif\u001b[39;00m ret[\u001b[39m0\u001b[39m] \u001b[39mis\u001b[39;00m \u001b[39mnot\u001b[39;00m \u001b[39mNone\u001b[39;00m \u001b[39mand\u001b[39;00m extra_condition \u001b[39mis\u001b[39;00m \u001b[39mnot\u001b[39;00m \u001b[39mNone\u001b[39;00m:\n\u001b[1;32m   1010\u001b[0m     xp1 \u001b[39m=\u001b[39m xk \u001b[39m+\u001b[39m ret[\u001b[39m0\u001b[39m] \u001b[39m*\u001b[39m pk\n",
      "File \u001b[0;32m/opt/anaconda3/lib/python3.9/site-packages/scipy/optimize/linesearch.py:96\u001b[0m, in \u001b[0;36mline_search_wolfe1\u001b[0;34m(f, fprime, xk, pk, gfk, old_fval, old_old_fval, args, c1, c2, amax, amin, xtol)\u001b[0m\n\u001b[1;32m     92\u001b[0m     \u001b[39mreturn\u001b[39;00m np\u001b[39m.\u001b[39mdot(gval[\u001b[39m0\u001b[39m], pk)\n\u001b[1;32m     94\u001b[0m derphi0 \u001b[39m=\u001b[39m np\u001b[39m.\u001b[39mdot(gfk, pk)\n\u001b[0;32m---> 96\u001b[0m stp, fval, old_fval \u001b[39m=\u001b[39m scalar_search_wolfe1(\n\u001b[1;32m     97\u001b[0m         phi, derphi, old_fval, old_old_fval, derphi0,\n\u001b[1;32m     98\u001b[0m         c1\u001b[39m=\u001b[39;49mc1, c2\u001b[39m=\u001b[39;49mc2, amax\u001b[39m=\u001b[39;49mamax, amin\u001b[39m=\u001b[39;49mamin, xtol\u001b[39m=\u001b[39;49mxtol)\n\u001b[1;32m    100\u001b[0m \u001b[39mreturn\u001b[39;00m stp, fc[\u001b[39m0\u001b[39m], gc[\u001b[39m0\u001b[39m], fval, old_fval, gval[\u001b[39m0\u001b[39m]\n",
      "File \u001b[0;32m/opt/anaconda3/lib/python3.9/site-packages/scipy/optimize/linesearch.py:173\u001b[0m, in \u001b[0;36mscalar_search_wolfe1\u001b[0;34m(phi, derphi, phi0, old_phi0, derphi0, c1, c2, amax, amin, xtol)\u001b[0m\n\u001b[1;32m    171\u001b[0m     alpha1 \u001b[39m=\u001b[39m stp\n\u001b[1;32m    172\u001b[0m     phi1 \u001b[39m=\u001b[39m phi(stp)\n\u001b[0;32m--> 173\u001b[0m     derphi1 \u001b[39m=\u001b[39m derphi(stp)\n\u001b[1;32m    174\u001b[0m \u001b[39melse\u001b[39;00m:\n\u001b[1;32m    175\u001b[0m     \u001b[39mbreak\u001b[39;00m\n",
      "File \u001b[0;32m/opt/anaconda3/lib/python3.9/site-packages/scipy/optimize/linesearch.py:87\u001b[0m, in \u001b[0;36mline_search_wolfe1.<locals>.derphi\u001b[0;34m(s)\u001b[0m\n\u001b[1;32m     86\u001b[0m \u001b[39mdef\u001b[39;00m \u001b[39mderphi\u001b[39m(s):\n\u001b[0;32m---> 87\u001b[0m     gval[\u001b[39m0\u001b[39m] \u001b[39m=\u001b[39m fprime(xk \u001b[39m+\u001b[39;49m s\u001b[39m*\u001b[39;49mpk, \u001b[39m*\u001b[39;49mnewargs)\n\u001b[1;32m     88\u001b[0m     \u001b[39mif\u001b[39;00m gradient:\n\u001b[1;32m     89\u001b[0m         gc[\u001b[39m0\u001b[39m] \u001b[39m+\u001b[39m\u001b[39m=\u001b[39m \u001b[39m1\u001b[39m\n",
      "File \u001b[0;32m/opt/anaconda3/lib/python3.9/site-packages/scipy/optimize/_differentiable_functions.py:255\u001b[0m, in \u001b[0;36mScalarFunction.grad\u001b[0;34m(self, x)\u001b[0m\n\u001b[1;32m    253\u001b[0m \u001b[39mif\u001b[39;00m \u001b[39mnot\u001b[39;00m np\u001b[39m.\u001b[39marray_equal(x, \u001b[39mself\u001b[39m\u001b[39m.\u001b[39mx):\n\u001b[1;32m    254\u001b[0m     \u001b[39mself\u001b[39m\u001b[39m.\u001b[39m_update_x_impl(x)\n\u001b[0;32m--> 255\u001b[0m \u001b[39mself\u001b[39;49m\u001b[39m.\u001b[39;49m_update_grad()\n\u001b[1;32m    256\u001b[0m \u001b[39mreturn\u001b[39;00m \u001b[39mself\u001b[39m\u001b[39m.\u001b[39mg\n",
      "File \u001b[0;32m/opt/anaconda3/lib/python3.9/site-packages/scipy/optimize/_differentiable_functions.py:238\u001b[0m, in \u001b[0;36mScalarFunction._update_grad\u001b[0;34m(self)\u001b[0m\n\u001b[1;32m    236\u001b[0m \u001b[39mdef\u001b[39;00m \u001b[39m_update_grad\u001b[39m(\u001b[39mself\u001b[39m):\n\u001b[1;32m    237\u001b[0m     \u001b[39mif\u001b[39;00m \u001b[39mnot\u001b[39;00m \u001b[39mself\u001b[39m\u001b[39m.\u001b[39mg_updated:\n\u001b[0;32m--> 238\u001b[0m         \u001b[39mself\u001b[39;49m\u001b[39m.\u001b[39;49m_update_grad_impl()\n\u001b[1;32m    239\u001b[0m         \u001b[39mself\u001b[39m\u001b[39m.\u001b[39mg_updated \u001b[39m=\u001b[39m \u001b[39mTrue\u001b[39;00m\n",
      "File \u001b[0;32m/opt/anaconda3/lib/python3.9/site-packages/scipy/optimize/_differentiable_functions.py:155\u001b[0m, in \u001b[0;36mScalarFunction.__init__.<locals>.update_grad\u001b[0;34m()\u001b[0m\n\u001b[1;32m    153\u001b[0m \u001b[39mself\u001b[39m\u001b[39m.\u001b[39m_update_fun()\n\u001b[1;32m    154\u001b[0m \u001b[39mself\u001b[39m\u001b[39m.\u001b[39mngev \u001b[39m+\u001b[39m\u001b[39m=\u001b[39m \u001b[39m1\u001b[39m\n\u001b[0;32m--> 155\u001b[0m \u001b[39mself\u001b[39m\u001b[39m.\u001b[39mg \u001b[39m=\u001b[39m approx_derivative(fun_wrapped, \u001b[39mself\u001b[39;49m\u001b[39m.\u001b[39;49mx, f0\u001b[39m=\u001b[39;49m\u001b[39mself\u001b[39;49m\u001b[39m.\u001b[39;49mf,\n\u001b[1;32m    156\u001b[0m                            \u001b[39m*\u001b[39;49m\u001b[39m*\u001b[39;49mfinite_diff_options)\n",
      "File \u001b[0;32m/opt/anaconda3/lib/python3.9/site-packages/scipy/optimize/_numdiff.py:486\u001b[0m, in \u001b[0;36mapprox_derivative\u001b[0;34m(fun, x0, method, rel_step, abs_step, f0, bounds, sparsity, as_linear_operator, args, kwargs)\u001b[0m\n\u001b[1;32m    483\u001b[0m     use_one_sided \u001b[39m=\u001b[39m \u001b[39mFalse\u001b[39;00m\n\u001b[1;32m    485\u001b[0m \u001b[39mif\u001b[39;00m sparsity \u001b[39mis\u001b[39;00m \u001b[39mNone\u001b[39;00m:\n\u001b[0;32m--> 486\u001b[0m     \u001b[39mreturn\u001b[39;00m _dense_difference(fun_wrapped, x0, f0, h,\n\u001b[1;32m    487\u001b[0m                              use_one_sided, method)\n\u001b[1;32m    488\u001b[0m \u001b[39melse\u001b[39;00m:\n\u001b[1;32m    489\u001b[0m     \u001b[39mif\u001b[39;00m \u001b[39mnot\u001b[39;00m issparse(sparsity) \u001b[39mand\u001b[39;00m \u001b[39mlen\u001b[39m(sparsity) \u001b[39m==\u001b[39m \u001b[39m2\u001b[39m:\n",
      "File \u001b[0;32m/opt/anaconda3/lib/python3.9/site-packages/scipy/optimize/_numdiff.py:557\u001b[0m, in \u001b[0;36m_dense_difference\u001b[0;34m(fun, x0, f0, h, use_one_sided, method)\u001b[0m\n\u001b[1;32m    555\u001b[0m     x \u001b[39m=\u001b[39m x0 \u001b[39m+\u001b[39m h_vecs[i]\n\u001b[1;32m    556\u001b[0m     dx \u001b[39m=\u001b[39m x[i] \u001b[39m-\u001b[39m x0[i]  \u001b[39m# Recompute dx as exactly representable number.\u001b[39;00m\n\u001b[0;32m--> 557\u001b[0m     df \u001b[39m=\u001b[39m fun(x) \u001b[39m-\u001b[39m f0\n\u001b[1;32m    558\u001b[0m \u001b[39melif\u001b[39;00m method \u001b[39m==\u001b[39m \u001b[39m'\u001b[39m\u001b[39m3-point\u001b[39m\u001b[39m'\u001b[39m \u001b[39mand\u001b[39;00m use_one_sided[i]:\n\u001b[1;32m    559\u001b[0m     x1 \u001b[39m=\u001b[39m x0 \u001b[39m+\u001b[39m h_vecs[i]\n",
      "File \u001b[0;32m/opt/anaconda3/lib/python3.9/site-packages/scipy/optimize/_numdiff.py:437\u001b[0m, in \u001b[0;36mapprox_derivative.<locals>.fun_wrapped\u001b[0;34m(x)\u001b[0m\n\u001b[1;32m    436\u001b[0m \u001b[39mdef\u001b[39;00m \u001b[39mfun_wrapped\u001b[39m(x):\n\u001b[0;32m--> 437\u001b[0m     f \u001b[39m=\u001b[39m np\u001b[39m.\u001b[39matleast_1d(fun(x, \u001b[39m*\u001b[39;49margs, \u001b[39m*\u001b[39;49m\u001b[39m*\u001b[39;49mkwargs))\n\u001b[1;32m    438\u001b[0m     \u001b[39mif\u001b[39;00m f\u001b[39m.\u001b[39mndim \u001b[39m>\u001b[39m \u001b[39m1\u001b[39m:\n\u001b[1;32m    439\u001b[0m         \u001b[39mraise\u001b[39;00m \u001b[39mRuntimeError\u001b[39;00m(\u001b[39m\"\u001b[39m\u001b[39m`fun` return value has \u001b[39m\u001b[39m\"\u001b[39m\n\u001b[1;32m    440\u001b[0m                            \u001b[39m\"\u001b[39m\u001b[39mmore than 1 dimension.\u001b[39m\u001b[39m\"\u001b[39m)\n",
      "File \u001b[0;32m/opt/anaconda3/lib/python3.9/site-packages/scipy/optimize/_differentiable_functions.py:134\u001b[0m, in \u001b[0;36mScalarFunction.__init__.<locals>.fun_wrapped\u001b[0;34m(x)\u001b[0m\n\u001b[1;32m    130\u001b[0m \u001b[39mself\u001b[39m\u001b[39m.\u001b[39mnfev \u001b[39m+\u001b[39m\u001b[39m=\u001b[39m \u001b[39m1\u001b[39m\n\u001b[1;32m    131\u001b[0m \u001b[39m# Send a copy because the user may overwrite it.\u001b[39;00m\n\u001b[1;32m    132\u001b[0m \u001b[39m# Overwriting results in undefined behaviour because\u001b[39;00m\n\u001b[1;32m    133\u001b[0m \u001b[39m# fun(self.x) will change self.x, with the two no longer linked.\u001b[39;00m\n\u001b[0;32m--> 134\u001b[0m \u001b[39mreturn\u001b[39;00m fun(np\u001b[39m.\u001b[39;49mcopy(x), \u001b[39m*\u001b[39;49margs)\n",
      "File \u001b[0;32m/opt/anaconda3/lib/python3.9/site-packages/statsforecast/arima.py:681\u001b[0m, in \u001b[0;36marima.<locals>.armafn\u001b[0;34m(p, x, trans)\u001b[0m\n\u001b[1;32m    679\u001b[0m \u001b[39mif\u001b[39;00m ncxreg \u001b[39m>\u001b[39m \u001b[39m0\u001b[39m:\n\u001b[1;32m    680\u001b[0m     x \u001b[39m-\u001b[39m\u001b[39m=\u001b[39m np\u001b[39m.\u001b[39mdot(xreg, par[narma \u001b[39m+\u001b[39m np\u001b[39m.\u001b[39marange(ncxreg)])\n\u001b[0;32m--> 681\u001b[0m res \u001b[39m=\u001b[39m arima_like(\n\u001b[1;32m    682\u001b[0m     x,\n\u001b[1;32m    683\u001b[0m     Z[\u001b[39m\"\u001b[39;49m\u001b[39mphi\u001b[39;49m\u001b[39m\"\u001b[39;49m],\n\u001b[1;32m    684\u001b[0m     Z[\u001b[39m\"\u001b[39;49m\u001b[39mtheta\u001b[39;49m\u001b[39m\"\u001b[39;49m],\n\u001b[1;32m    685\u001b[0m     Z[\u001b[39m\"\u001b[39;49m\u001b[39mdelta\u001b[39;49m\u001b[39m\"\u001b[39;49m],\n\u001b[1;32m    686\u001b[0m     Z[\u001b[39m\"\u001b[39;49m\u001b[39ma\u001b[39;49m\u001b[39m\"\u001b[39;49m],\n\u001b[1;32m    687\u001b[0m     Z[\u001b[39m\"\u001b[39;49m\u001b[39mP\u001b[39;49m\u001b[39m\"\u001b[39;49m],\n\u001b[1;32m    688\u001b[0m     Z[\u001b[39m\"\u001b[39;49m\u001b[39mPn\u001b[39;49m\u001b[39m\"\u001b[39;49m],\n\u001b[1;32m    689\u001b[0m     \u001b[39m0\u001b[39;49m,\n\u001b[1;32m    690\u001b[0m     \u001b[39mFalse\u001b[39;49;00m,\n\u001b[1;32m    691\u001b[0m )\n\u001b[1;32m    692\u001b[0m \u001b[39mif\u001b[39;00m res[\u001b[39m2\u001b[39m] \u001b[39m==\u001b[39m \u001b[39m0.0\u001b[39m:\n\u001b[1;32m    693\u001b[0m     \u001b[39mreturn\u001b[39;00m math\u001b[39m.\u001b[39minf\n",
      "\u001b[0;31mKeyboardInterrupt\u001b[0m: "
     ]
    }
   ],
   "source": [
    "base_line_model(sudden_df,auto_arima,'all')"
   ]
  },
  {
   "cell_type": "code",
   "execution_count": 110,
   "metadata": {},
   "outputs": [
    {
     "data": {
      "text/plain": [
       "{'mean': array([1.93379719])}"
      ]
     },
     "execution_count": 110,
     "metadata": {},
     "output_type": "execute_result"
    }
   ],
   "source": [
    "ar_5.fit(series).predict(1)"
   ]
  },
  {
   "cell_type": "code",
   "execution_count": 103,
   "metadata": {},
   "outputs": [
    {
     "data": {
      "text/plain": [
       "[array([1.88871183])]"
      ]
     },
     "execution_count": 103,
     "metadata": {},
     "output_type": "execute_result"
    }
   ],
   "source": [
    "b"
   ]
  },
  {
   "cell_type": "code",
   "execution_count": 89,
   "metadata": {},
   "outputs": [],
   "source": [
    "a=pd.read_csv('../../result/sudden/exp_lgbm_sudden_window_100_error.csv')"
   ]
  },
  {
   "cell_type": "code",
   "execution_count": 38,
   "metadata": {},
   "outputs": [],
   "source": [
    "a=100"
   ]
  },
  {
   "cell_type": "code",
   "execution_count": 40,
   "metadata": {},
   "outputs": [
    {
     "data": {
      "text/plain": [
       "True"
      ]
     },
     "execution_count": 40,
     "metadata": {},
     "output_type": "execute_result"
    }
   ],
   "source": [
    "type(a) is int"
   ]
  },
  {
   "cell_type": "code",
   "execution_count": 41,
   "metadata": {},
   "outputs": [],
   "source": [
    "series=series_reader(sudden_df,0)"
   ]
  },
  {
   "cell_type": "code",
   "execution_count": 45,
   "metadata": {},
   "outputs": [],
   "source": [
    "training_seris=series[:round(0.8 * len(series))]\n",
    "testing_series=series[round(0.8 * len(series)):]"
   ]
  },
  {
   "cell_type": "code",
   "execution_count": null,
   "metadata": {},
   "outputs": [],
   "source": [
    "for "
   ]
  },
  {
   "cell_type": "code",
   "execution_count": 47,
   "metadata": {},
   "outputs": [],
   "source": [
    "row=0\n",
    "def string_to_list(string_org):\n",
    "    string = string_org.split(',')\n",
    "    string_list = []\n",
    "    for i in range(len(string)):\n",
    "        if i == 0:\n",
    "            data = float(string[i][1:])\n",
    "\n",
    "        elif i == len(string) - 1:\n",
    "            data = float(string[i][:-1])\n",
    "        else:\n",
    "            data = float(string[i])\n",
    "        string_list.append(data)\n",
    "    return string_list\n",
    "\n",
    "sudden_series_row = sudden_df.loc[row]\n",
    "sudden_series = sudden_series_row[1]\n",
    "sudden_series_list = string_to_list(sudden_series)\n",
    "sudden_series_df = pd.DataFrame({})\n",
    "sudden_series_df = pd.DataFrame({\n",
    "    'drift_point': sudden_series_row.drift_point,\n",
    "    'value': sudden_series_list})\n",
    "for lags in range(1, 11):\n",
    "        sudden_series_df['lag' + str(lags)] = sudden_series_df['value'].shift(lags).fillna(0)"
   ]
  },
  {
   "cell_type": "code",
   "execution_count": 49,
   "metadata": {},
   "outputs": [
    {
     "data": {
      "text/html": [
       "<div>\n",
       "<style scoped>\n",
       "    .dataframe tbody tr th:only-of-type {\n",
       "        vertical-align: middle;\n",
       "    }\n",
       "\n",
       "    .dataframe tbody tr th {\n",
       "        vertical-align: top;\n",
       "    }\n",
       "\n",
       "    .dataframe thead th {\n",
       "        text-align: right;\n",
       "    }\n",
       "</style>\n",
       "<table border=\"1\" class=\"dataframe\">\n",
       "  <thead>\n",
       "    <tr style=\"text-align: right;\">\n",
       "      <th></th>\n",
       "      <th>drift_point</th>\n",
       "      <th>value</th>\n",
       "      <th>lag1</th>\n",
       "      <th>lag2</th>\n",
       "      <th>lag3</th>\n",
       "      <th>lag4</th>\n",
       "      <th>lag5</th>\n",
       "      <th>lag6</th>\n",
       "      <th>lag7</th>\n",
       "      <th>lag8</th>\n",
       "      <th>lag9</th>\n",
       "      <th>lag10</th>\n",
       "    </tr>\n",
       "  </thead>\n",
       "  <tbody>\n",
       "    <tr>\n",
       "      <th>0</th>\n",
       "      <td>10</td>\n",
       "      <td>4.024426</td>\n",
       "      <td>0.000000</td>\n",
       "      <td>0.000000</td>\n",
       "      <td>0.000000</td>\n",
       "      <td>0.000000</td>\n",
       "      <td>0.000000</td>\n",
       "      <td>0.000000</td>\n",
       "      <td>0.000000</td>\n",
       "      <td>0.000000</td>\n",
       "      <td>0.000000</td>\n",
       "      <td>0.000000</td>\n",
       "    </tr>\n",
       "    <tr>\n",
       "      <th>1</th>\n",
       "      <td>10</td>\n",
       "      <td>5.501930</td>\n",
       "      <td>4.024426</td>\n",
       "      <td>0.000000</td>\n",
       "      <td>0.000000</td>\n",
       "      <td>0.000000</td>\n",
       "      <td>0.000000</td>\n",
       "      <td>0.000000</td>\n",
       "      <td>0.000000</td>\n",
       "      <td>0.000000</td>\n",
       "      <td>0.000000</td>\n",
       "      <td>0.000000</td>\n",
       "    </tr>\n",
       "    <tr>\n",
       "      <th>2</th>\n",
       "      <td>10</td>\n",
       "      <td>4.260715</td>\n",
       "      <td>5.501930</td>\n",
       "      <td>4.024426</td>\n",
       "      <td>0.000000</td>\n",
       "      <td>0.000000</td>\n",
       "      <td>0.000000</td>\n",
       "      <td>0.000000</td>\n",
       "      <td>0.000000</td>\n",
       "      <td>0.000000</td>\n",
       "      <td>0.000000</td>\n",
       "      <td>0.000000</td>\n",
       "    </tr>\n",
       "    <tr>\n",
       "      <th>3</th>\n",
       "      <td>10</td>\n",
       "      <td>5.960946</td>\n",
       "      <td>4.260715</td>\n",
       "      <td>5.501930</td>\n",
       "      <td>4.024426</td>\n",
       "      <td>0.000000</td>\n",
       "      <td>0.000000</td>\n",
       "      <td>0.000000</td>\n",
       "      <td>0.000000</td>\n",
       "      <td>0.000000</td>\n",
       "      <td>0.000000</td>\n",
       "      <td>0.000000</td>\n",
       "    </tr>\n",
       "    <tr>\n",
       "      <th>4</th>\n",
       "      <td>10</td>\n",
       "      <td>3.197766</td>\n",
       "      <td>5.960946</td>\n",
       "      <td>4.260715</td>\n",
       "      <td>5.501930</td>\n",
       "      <td>4.024426</td>\n",
       "      <td>0.000000</td>\n",
       "      <td>0.000000</td>\n",
       "      <td>0.000000</td>\n",
       "      <td>0.000000</td>\n",
       "      <td>0.000000</td>\n",
       "      <td>0.000000</td>\n",
       "    </tr>\n",
       "    <tr>\n",
       "      <th>...</th>\n",
       "      <td>...</td>\n",
       "      <td>...</td>\n",
       "      <td>...</td>\n",
       "      <td>...</td>\n",
       "      <td>...</td>\n",
       "      <td>...</td>\n",
       "      <td>...</td>\n",
       "      <td>...</td>\n",
       "      <td>...</td>\n",
       "      <td>...</td>\n",
       "      <td>...</td>\n",
       "      <td>...</td>\n",
       "    </tr>\n",
       "    <tr>\n",
       "      <th>1995</th>\n",
       "      <td>10</td>\n",
       "      <td>2.733733</td>\n",
       "      <td>2.814620</td>\n",
       "      <td>3.205647</td>\n",
       "      <td>3.389678</td>\n",
       "      <td>3.386082</td>\n",
       "      <td>3.504344</td>\n",
       "      <td>3.596305</td>\n",
       "      <td>3.701912</td>\n",
       "      <td>3.664779</td>\n",
       "      <td>3.514945</td>\n",
       "      <td>3.460599</td>\n",
       "    </tr>\n",
       "    <tr>\n",
       "      <th>1996</th>\n",
       "      <td>10</td>\n",
       "      <td>2.417984</td>\n",
       "      <td>2.733733</td>\n",
       "      <td>2.814620</td>\n",
       "      <td>3.205647</td>\n",
       "      <td>3.389678</td>\n",
       "      <td>3.386082</td>\n",
       "      <td>3.504344</td>\n",
       "      <td>3.596305</td>\n",
       "      <td>3.701912</td>\n",
       "      <td>3.664779</td>\n",
       "      <td>3.514945</td>\n",
       "    </tr>\n",
       "    <tr>\n",
       "      <th>1997</th>\n",
       "      <td>10</td>\n",
       "      <td>1.943726</td>\n",
       "      <td>2.417984</td>\n",
       "      <td>2.733733</td>\n",
       "      <td>2.814620</td>\n",
       "      <td>3.205647</td>\n",
       "      <td>3.389678</td>\n",
       "      <td>3.386082</td>\n",
       "      <td>3.504344</td>\n",
       "      <td>3.596305</td>\n",
       "      <td>3.701912</td>\n",
       "      <td>3.664779</td>\n",
       "    </tr>\n",
       "    <tr>\n",
       "      <th>1998</th>\n",
       "      <td>10</td>\n",
       "      <td>1.749150</td>\n",
       "      <td>1.943726</td>\n",
       "      <td>2.417984</td>\n",
       "      <td>2.733733</td>\n",
       "      <td>2.814620</td>\n",
       "      <td>3.205647</td>\n",
       "      <td>3.389678</td>\n",
       "      <td>3.386082</td>\n",
       "      <td>3.504344</td>\n",
       "      <td>3.596305</td>\n",
       "      <td>3.701912</td>\n",
       "    </tr>\n",
       "    <tr>\n",
       "      <th>1999</th>\n",
       "      <td>10</td>\n",
       "      <td>1.789850</td>\n",
       "      <td>1.749150</td>\n",
       "      <td>1.943726</td>\n",
       "      <td>2.417984</td>\n",
       "      <td>2.733733</td>\n",
       "      <td>2.814620</td>\n",
       "      <td>3.205647</td>\n",
       "      <td>3.389678</td>\n",
       "      <td>3.386082</td>\n",
       "      <td>3.504344</td>\n",
       "      <td>3.596305</td>\n",
       "    </tr>\n",
       "  </tbody>\n",
       "</table>\n",
       "<p>2000 rows × 12 columns</p>\n",
       "</div>"
      ],
      "text/plain": [
       "      drift_point     value      lag1      lag2      lag3      lag4      lag5  \\\n",
       "0              10  4.024426  0.000000  0.000000  0.000000  0.000000  0.000000   \n",
       "1              10  5.501930  4.024426  0.000000  0.000000  0.000000  0.000000   \n",
       "2              10  4.260715  5.501930  4.024426  0.000000  0.000000  0.000000   \n",
       "3              10  5.960946  4.260715  5.501930  4.024426  0.000000  0.000000   \n",
       "4              10  3.197766  5.960946  4.260715  5.501930  4.024426  0.000000   \n",
       "...           ...       ...       ...       ...       ...       ...       ...   \n",
       "1995           10  2.733733  2.814620  3.205647  3.389678  3.386082  3.504344   \n",
       "1996           10  2.417984  2.733733  2.814620  3.205647  3.389678  3.386082   \n",
       "1997           10  1.943726  2.417984  2.733733  2.814620  3.205647  3.389678   \n",
       "1998           10  1.749150  1.943726  2.417984  2.733733  2.814620  3.205647   \n",
       "1999           10  1.789850  1.749150  1.943726  2.417984  2.733733  2.814620   \n",
       "\n",
       "          lag6      lag7      lag8      lag9     lag10  \n",
       "0     0.000000  0.000000  0.000000  0.000000  0.000000  \n",
       "1     0.000000  0.000000  0.000000  0.000000  0.000000  \n",
       "2     0.000000  0.000000  0.000000  0.000000  0.000000  \n",
       "3     0.000000  0.000000  0.000000  0.000000  0.000000  \n",
       "4     0.000000  0.000000  0.000000  0.000000  0.000000  \n",
       "...        ...       ...       ...       ...       ...  \n",
       "1995  3.596305  3.701912  3.664779  3.514945  3.460599  \n",
       "1996  3.504344  3.596305  3.701912  3.664779  3.514945  \n",
       "1997  3.386082  3.504344  3.596305  3.701912  3.664779  \n",
       "1998  3.389678  3.386082  3.504344  3.596305  3.701912  \n",
       "1999  3.205647  3.389678  3.386082  3.504344  3.596305  \n",
       "\n",
       "[2000 rows x 12 columns]"
      ]
     },
     "execution_count": 49,
     "metadata": {},
     "output_type": "execute_result"
    }
   ],
   "source": [
    "sudden_series_df"
   ]
  },
  {
   "cell_type": "code",
   "execution_count": 50,
   "metadata": {},
   "outputs": [
    {
     "data": {
      "text/plain": [
       "2000"
      ]
     },
     "execution_count": 50,
     "metadata": {},
     "output_type": "execute_result"
    }
   ],
   "source": [
    "len(series)"
   ]
  },
  {
   "cell_type": "code",
   "execution_count": 54,
   "metadata": {},
   "outputs": [
    {
     "data": {
      "text/plain": [
       "array([4.02442553, 5.50193011, 4.26071501, ..., 1.94372563, 1.74914998,\n",
       "       1.78985039])"
      ]
     },
     "execution_count": 54,
     "metadata": {},
     "output_type": "execute_result"
    }
   ],
   "source": [
    "series"
   ]
  },
  {
   "cell_type": "code",
   "execution_count": 68,
   "metadata": {},
   "outputs": [],
   "source": [
    "auto_arima.fit(series[-101:-1])\n",
    "a=auto_arima.predict(1)['mean']\n"
   ]
  },
  {
   "cell_type": "code",
   "execution_count": 71,
   "metadata": {},
   "outputs": [],
   "source": [
    "auto_arima.fit(series[-200:-101])\n",
    "b=auto_arima.predict(1)['mean']"
   ]
  },
  {
   "cell_type": "code",
   "execution_count": 74,
   "metadata": {},
   "outputs": [
    {
     "data": {
      "text/plain": [
       "array([3.18093253])"
      ]
     },
     "execution_count": 74,
     "metadata": {},
     "output_type": "execute_result"
    }
   ],
   "source": [
    "b"
   ]
  },
  {
   "cell_type": "code",
   "execution_count": 66,
   "metadata": {},
   "outputs": [
    {
     "data": {
      "text/plain": [
       "1.78985038999067"
      ]
     },
     "execution_count": 66,
     "metadata": {},
     "output_type": "execute_result"
    }
   ],
   "source": [
    "series[-1]"
   ]
  },
  {
   "cell_type": "code",
   "execution_count": 63,
   "metadata": {},
   "outputs": [
    {
     "data": {
      "text/plain": [
       "100"
      ]
     },
     "execution_count": 63,
     "metadata": {},
     "output_type": "execute_result"
    }
   ],
   "source": [
    "len(series[-101:-1])"
   ]
  },
  {
   "cell_type": "code",
   "execution_count": 73,
   "metadata": {},
   "outputs": [
    {
     "data": {
      "text/plain": [
       "array([1.5652964 , 3.18093253])"
      ]
     },
     "execution_count": 73,
     "metadata": {},
     "output_type": "execute_result"
    }
   ],
   "source": [
    "np.append(a,b)"
   ]
  },
  {
   "cell_type": "code",
   "execution_count": 78,
   "metadata": {},
   "outputs": [
    {
     "ename": "AttributeError",
     "evalue": "'numpy.ndarray' object has no attribute 'append'",
     "output_type": "error",
     "traceback": [
      "\u001b[0;31m---------------------------------------------------------------------------\u001b[0m",
      "\u001b[0;31mAttributeError\u001b[0m                            Traceback (most recent call last)",
      "\u001b[1;32m/Users/nealliu/Desktop/Concept_Drift_Handling/models/base_line_model/sudden_base_line_model.ipynb Cell 26\u001b[0m in \u001b[0;36m<cell line: 1>\u001b[0;34m()\u001b[0m\n\u001b[0;32m----> <a href='vscode-notebook-cell:/Users/nealliu/Desktop/Concept_Drift_Handling/models/base_line_model/sudden_base_line_model.ipynb#X46sZmlsZQ%3D%3D?line=0'>1</a>\u001b[0m series[\u001b[39m-\u001b[39;49m\u001b[39m100\u001b[39;49m:]\u001b[39m.\u001b[39;49mappend(series)\n",
      "\u001b[0;31mAttributeError\u001b[0m: 'numpy.ndarray' object has no attribute 'append'"
     ]
    }
   ],
   "source": [
    "series[-100:].append(series)"
   ]
  },
  {
   "cell_type": "code",
   "execution_count": 79,
   "metadata": {},
   "outputs": [
    {
     "data": {
      "text/plain": [
       "array([2.99452639, 3.09065721, 3.269376  , ..., 1.94372563, 1.74914998,\n",
       "       1.78985039])"
      ]
     },
     "execution_count": 79,
     "metadata": {},
     "output_type": "execute_result"
    }
   ],
   "source": [
    "np.append(series[-100:],series)"
   ]
  },
  {
   "cell_type": "code",
   "execution_count": 80,
   "metadata": {},
   "outputs": [
    {
     "data": {
      "text/plain": [
       "2100"
      ]
     },
     "execution_count": 80,
     "metadata": {},
     "output_type": "execute_result"
    }
   ],
   "source": [
    "len(np.append(series[-100:],series))"
   ]
  },
  {
   "cell_type": "code",
   "execution_count": 81,
   "metadata": {},
   "outputs": [
    {
     "data": {
      "text/plain": [
       "100"
      ]
     },
     "execution_count": 81,
     "metadata": {},
     "output_type": "execute_result"
    }
   ],
   "source": [
    "len(series[0:100])"
   ]
  },
  {
   "cell_type": "code",
   "execution_count": null,
   "metadata": {},
   "outputs": [],
   "source": []
  }
 ],
 "metadata": {
  "kernelspec": {
   "display_name": "base",
   "language": "python",
   "name": "python3"
  },
  "language_info": {
   "codemirror_mode": {
    "name": "ipython",
    "version": 3
   },
   "file_extension": ".py",
   "mimetype": "text/x-python",
   "name": "python",
   "nbconvert_exporter": "python",
   "pygments_lexer": "ipython3",
   "version": "3.9.12"
  },
  "orig_nbformat": 4,
  "vscode": {
   "interpreter": {
    "hash": "40d3a090f54c6569ab1632332b64b2c03c39dcf918b08424e98f38b5ae0af88f"
   }
  }
 },
 "nbformat": 4,
 "nbformat_minor": 2
}
