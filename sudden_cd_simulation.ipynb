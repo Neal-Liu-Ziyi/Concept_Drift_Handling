{
 "cells": [
  {
   "cell_type": "code",
   "execution_count": 1,
   "id": "front-professional",
   "metadata": {
    "ExecuteTime": {
     "end_time": "2021-12-06T07:46:13.467218Z",
     "start_time": "2021-12-06T07:46:13.045950Z"
    }
   },
   "outputs": [
    {
     "data": {
      "text/html": [
       "<style>.container { width:80% !important; }</style>"
      ],
      "text/plain": [
       "<IPython.core.display.HTML object>"
      ]
     },
     "metadata": {},
     "output_type": "display_data"
    }
   ],
   "source": [
    "import pandas as pd\n",
    "import itertools\n",
    "import numpy as np\n",
    "import random\n",
    "from random import choices\n",
    "from IPython.core.display import display, HTML\n",
    "display(HTML(\"<style>.container { width:80% !important; }</style>\"))"
   ]
  },
  {
   "cell_type": "code",
   "execution_count": 2,
   "id": "smooth-living",
   "metadata": {
    "ExecuteTime": {
     "end_time": "2021-12-06T07:46:21.341823Z",
     "start_time": "2021-12-06T07:46:21.337973Z"
    }
   },
   "outputs": [],
   "source": [
    "def ts_file_processor(file_name):\n",
    "    with open (file_name,'r') as ts_file:\n",
    "        ts=[]\n",
    "        for i in ts_file:\n",
    "            ts.append(i)\n",
    "    ts=ts[0].split(',')\n",
    "    ts=[float(ts[i]) for i in range(len(ts)) ]\n",
    "    return ts\n",
    "\n",
    "file='./original_series/original_series_'\n",
    "names = locals()\n",
    "ts_dict={}\n",
    "for i in range(1,2001):\n",
    "    ts_dict['ts_'+str(i)]=ts_file_processor(file+str(i)+'.txt')\n",
    "\n",
    "ts_index=[i for i in range(1,2001)]\n",
    "\n",
    "sudden_df=pd.DataFrame({'drift_point':[],\n",
    "                       'series':[]},\n",
    "                      dtype=object)"
   ]
  },
  {
   "cell_type": "code",
   "execution_count": 24,
   "id": "continent-exposure",
   "metadata": {
    "ExecuteTime": {
     "end_time": "2021-12-06T08:09:12.855949Z",
     "start_time": "2021-12-06T08:09:12.852687Z"
    }
   },
   "outputs": [],
   "source": [
    "def sudden_cd_simulation(no_simulation):\n",
    "    for row in range(no_simulation):\n",
    "        #create a new list to sotre series\n",
    "        sudden_cd_list=[]\n",
    "        # choice two sereis from original series \n",
    "        series_index=np.random.choice(ts_index,2)\n",
    "        ts1=ts_dict['ts_'+str(series_index[0])]\n",
    "        ts2=ts_dict['ts_'+str(series_index[1])]\n",
    "        # generate drift point\n",
    "        drift_point=random.randint(10,1970)\n",
    "        ts_1_points=ts1[:drift_point]\n",
    "        ts_2_points=ts2[drift_point:]\n",
    "        sudden_cd_list.append(ts_1_points)\n",
    "        sudden_cd_list.append(ts_2_points)\n",
    "        sudden_cd_list=list(itertools.chain.from_iterable(sudden_cd_list))\n",
    "        \n",
    "        sudden_df.loc[row]={'drift_point':drift_point,\n",
    "                          'series':sudden_cd_list}\n",
    "    return sudden_df"
   ]
  },
  {
   "cell_type": "code",
   "execution_count": 25,
   "id": "latest-emergency",
   "metadata": {
    "ExecuteTime": {
     "end_time": "2021-12-06T08:09:17.137934Z",
     "start_time": "2021-12-06T08:09:13.035787Z"
    }
   },
   "outputs": [
    {
     "data": {
      "text/html": [
       "<div>\n",
       "<style scoped>\n",
       "    .dataframe tbody tr th:only-of-type {\n",
       "        vertical-align: middle;\n",
       "    }\n",
       "\n",
       "    .dataframe tbody tr th {\n",
       "        vertical-align: top;\n",
       "    }\n",
       "\n",
       "    .dataframe thead th {\n",
       "        text-align: right;\n",
       "    }\n",
       "</style>\n",
       "<table border=\"1\" class=\"dataframe\">\n",
       "  <thead>\n",
       "    <tr style=\"text-align: right;\">\n",
       "      <th></th>\n",
       "      <th>drift_point</th>\n",
       "      <th>series</th>\n",
       "    </tr>\n",
       "  </thead>\n",
       "  <tbody>\n",
       "    <tr>\n",
       "      <th>0</th>\n",
       "      <td>341</td>\n",
       "      <td>[6.01857225134956, 5.24754881111624, 4.5927160...</td>\n",
       "    </tr>\n",
       "    <tr>\n",
       "      <th>1</th>\n",
       "      <td>1143</td>\n",
       "      <td>[6.35033631862173, 1.65309415827586, 5.6666497...</td>\n",
       "    </tr>\n",
       "    <tr>\n",
       "      <th>2</th>\n",
       "      <td>1343</td>\n",
       "      <td>[3.66100546003194, 3.97940519043508, 3.9402201...</td>\n",
       "    </tr>\n",
       "    <tr>\n",
       "      <th>3</th>\n",
       "      <td>1191</td>\n",
       "      <td>[4.25849066663321, 4.47656069474739, 5.0244764...</td>\n",
       "    </tr>\n",
       "    <tr>\n",
       "      <th>4</th>\n",
       "      <td>675</td>\n",
       "      <td>[3.49071212353472, 3.60461814369744, 2.5066032...</td>\n",
       "    </tr>\n",
       "    <tr>\n",
       "      <th>...</th>\n",
       "      <td>...</td>\n",
       "      <td>...</td>\n",
       "    </tr>\n",
       "    <tr>\n",
       "      <th>1995</th>\n",
       "      <td>154</td>\n",
       "      <td>[3.83559956039742, 5.05266115252065, 5.1904650...</td>\n",
       "    </tr>\n",
       "    <tr>\n",
       "      <th>1996</th>\n",
       "      <td>1057</td>\n",
       "      <td>[5.02954479318993, 4.71777772527613, 4.0897176...</td>\n",
       "    </tr>\n",
       "    <tr>\n",
       "      <th>1997</th>\n",
       "      <td>89</td>\n",
       "      <td>[6.28051811744838, 4.58399074199509, 3.9406367...</td>\n",
       "    </tr>\n",
       "    <tr>\n",
       "      <th>1998</th>\n",
       "      <td>1860</td>\n",
       "      <td>[6.13400301116999, 5.33853924619088, 4.3045596...</td>\n",
       "    </tr>\n",
       "    <tr>\n",
       "      <th>1999</th>\n",
       "      <td>1462</td>\n",
       "      <td>[4.5420634586903, 3.8832831144941, 3.693896175...</td>\n",
       "    </tr>\n",
       "  </tbody>\n",
       "</table>\n",
       "<p>2000 rows × 2 columns</p>\n",
       "</div>"
      ],
      "text/plain": [
       "     drift_point                                             series\n",
       "0            341  [6.01857225134956, 5.24754881111624, 4.5927160...\n",
       "1           1143  [6.35033631862173, 1.65309415827586, 5.6666497...\n",
       "2           1343  [3.66100546003194, 3.97940519043508, 3.9402201...\n",
       "3           1191  [4.25849066663321, 4.47656069474739, 5.0244764...\n",
       "4            675  [3.49071212353472, 3.60461814369744, 2.5066032...\n",
       "...          ...                                                ...\n",
       "1995         154  [3.83559956039742, 5.05266115252065, 5.1904650...\n",
       "1996        1057  [5.02954479318993, 4.71777772527613, 4.0897176...\n",
       "1997          89  [6.28051811744838, 4.58399074199509, 3.9406367...\n",
       "1998        1860  [6.13400301116999, 5.33853924619088, 4.3045596...\n",
       "1999        1462  [4.5420634586903, 3.8832831144941, 3.693896175...\n",
       "\n",
       "[2000 rows x 2 columns]"
      ]
     },
     "execution_count": 25,
     "metadata": {},
     "output_type": "execute_result"
    }
   ],
   "source": [
    "sudden_cd_simulation(2000)"
   ]
  },
  {
   "cell_type": "code",
   "execution_count": 27,
   "id": "representative-coaching",
   "metadata": {
    "ExecuteTime": {
     "end_time": "2021-12-06T08:11:50.534680Z",
     "start_time": "2021-12-06T08:11:46.958368Z"
    }
   },
   "outputs": [],
   "source": [
    "sudden_df.to_csv('./simulated_data/sudden_concept_drift_df.csv', index=False,\n",
    "                 date_format={'drift_point': int,'series': list},sep=',')"
   ]
  }
 ],
 "metadata": {
  "kernelspec": {
   "display_name": "Python 3",
   "language": "python",
   "name": "python3"
  },
  "language_info": {
   "codemirror_mode": {
    "name": "ipython",
    "version": 3
   },
   "file_extension": ".py",
   "mimetype": "text/x-python",
   "name": "python",
   "nbconvert_exporter": "python",
   "pygments_lexer": "ipython3",
   "version": "3.8.2"
  },
  "toc": {
   "base_numbering": 1,
   "nav_menu": {},
   "number_sections": true,
   "sideBar": true,
   "skip_h1_title": false,
   "title_cell": "Table of Contents",
   "title_sidebar": "Contents",
   "toc_cell": false,
   "toc_position": {},
   "toc_section_display": true,
   "toc_window_display": false
  }
 },
 "nbformat": 4,
 "nbformat_minor": 5
}
